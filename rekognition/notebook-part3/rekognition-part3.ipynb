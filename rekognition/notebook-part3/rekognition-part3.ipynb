{
 "cells": [
  {
   "cell_type": "code",
   "execution_count": null,
   "metadata": {},
   "outputs": [],
   "source": [
    "# Amazon Rekognition Notebook Part 3 - Perform Celebrity Rekognition"
   ]
  },
  {
   "cell_type": "code",
   "execution_count": null,
   "metadata": {},
   "outputs": [],
   "source": [
    "# ------------------------------------------------------------------------------------------------------------------\n",
    "# Amazon Rekognition is a service that makes it easy to add powerful visual analysis to your applications. \n",
    "# Rekognition Image lets you easily build powerful applications to search, verify, and organize millions of images. \n",
    "# Rekognition Video lets you extract motion-based context from stored or live stream videos and helps you analyze them.\n",
    "# Rekognition detects objects, scenes, and faces; extracts text; recognizes celebrities; and identifies inappropriate \n",
    "# content in images. It also allows you to search and compare faces. Rekognition Image is based on the same proven, \n",
    "# highly scalable, deep learning technology developed by Amazon’s computer vision scientists to analyze billions of \n",
    "# images daily for Prime Photos.\n",
    "# ------------------------------------------------------------------------------------------------------------------"
   ]
  },
  {
   "cell_type": "code",
   "execution_count": 1,
   "metadata": {},
   "outputs": [
    {
     "name": "stdout",
     "output_type": "stream",
     "text": [
      "Starting Spark application\n"
     ]
    },
    {
     "data": {
      "text/html": [
       "<table>\n",
       "<tr><th>ID</th><th>YARN Application ID</th><th>Kind</th><th>State</th><th>Spark UI</th><th>Driver log</th><th>Current session?</th></tr><tr><td>3</td><td>application_1565109795194_0004</td><td>pyspark</td><td>idle</td><td><a target=\"_blank\" href=\"http://ip-172-32-139-13.ec2.internal:20888/proxy/application_1565109795194_0004/\">Link</a></td><td><a target=\"_blank\" href=\"http://ip-172-32-147-188.ec2.internal:8042/node/containerlogs/container_1565109795194_0004_01_000001/livy\">Link</a></td><td>✔</td></tr></table>"
      ],
      "text/plain": [
       "<IPython.core.display.HTML object>"
      ]
     },
     "metadata": {},
     "output_type": "display_data"
    },
    {
     "name": "stdout",
     "output_type": "stream",
     "text": [
      "SparkSession available as 'spark'.\n"
     ]
    }
   ],
   "source": [
    "# -------------------------------------------------------------------------\n",
    "# Import Python Libraries. Press run.\n",
    "# -------------------------------------------------------------------------\n",
    "\n",
    "from pyspark.context import SparkContext\n",
    "import boto3\n",
    "import requests\n",
    "import uuid"
   ]
  },
  {
   "cell_type": "code",
   "execution_count": 2,
   "metadata": {},
   "outputs": [],
   "source": [
    "# -------------------------------------------------------------------------------------\n",
    "# Create the Spark Context and a boto3 client for accessing rekognition API's, Press run.\n",
    "# -------------------------------------------------------------------------------------\n",
    "\n",
    "sc = SparkContext.getOrCreate()\n",
    "client = boto3.client('rekognition', region_name='us-east-1')"
   ]
  },
  {
   "cell_type": "code",
   "execution_count": null,
   "metadata": {},
   "outputs": [],
   "source": [
    "# ----------------------------------------------------------------------------------------------------------\n",
    "# Amazon Rekognition’s Celebrity Recognition is a deep learning based easy-to-use API for detection and \n",
    "# recognition of individuals who are famous, noteworthy, or prominent in their field. Let's see how Celebrity \n",
    "# Recognition works.\n",
    "# Highlight next cell and Press run.\n",
    "# ----------------------------------------------------------------------------------------------------------"
   ]
  },
  {
   "cell_type": "code",
   "execution_count": 3,
   "metadata": {},
   "outputs": [
    {
     "name": "stdout",
     "output_type": "stream",
     "text": [
      "{u'UnrecognizedFaces': [], u'CelebrityFaces': [{u'MatchConfidence': 96.0, u'Face': {u'BoundingBox': {u'Width': 0.3381703495979309, u'Top': 0.06464646756649017, u'Left': 0.3249211311340332, u'Height': 0.27070707082748413}, u'Confidence': 99.99436950683594, u'Pose': {u'Yaw': -1.3061529397964478, u'Roll': -1.2322059869766235, u'Pitch': 2.0413718223571777}, u'Quality': {u'Sharpness': 98.09814453125, u'Brightness': 84.5438003540039}, u'Landmarks': [{u'Y': 0.17157235741615295, u'X': 0.4407491087913513, u'Type': u'eyeLeft'}, {u'Y': 0.1701536625623703, u'X': 0.5494318008422852, u'Type': u'eyeRight'}, {u'Y': 0.21728579699993134, u'X': 0.4929247796535492, u'Type': u'nose'}, {u'Y': 0.2551828920841217, u'X': 0.4343632161617279, u'Type': u'mouthLeft'}, {u'Y': 0.25354325771331787, u'X': 0.5532055497169495, u'Type': u'mouthRight'}]}, u'Name': u'Barack Obama', u'Urls': [u'www.imdb.com/name/nm1682433'], u'Id': u'3R3sg9u'}], 'ResponseMetadata': {'RetryAttempts': 0, 'HTTPStatusCode': 200, 'RequestId': '24bf6ef0-cb02-416b-a451-0ee7c6c70aa1', 'HTTPHeaders': {'date': 'Tue, 06 Aug 2019 18:11:17 GMT', 'x-amzn-requestid': '24bf6ef0-cb02-416b-a451-0ee7c6c70aa1', 'content-length': '811', 'content-type': 'application/x-amz-json-1.1', 'connection': 'keep-alive'}}}"
     ]
    }
   ],
   "source": [
    "response = requests.get('https://upload.wikimedia.org/wikipedia/commons/8/8d/President_Barack_Obama.jpg')\n",
    "response_content = response.content\n",
    "\n",
    "rekognition_response = client.recognize_celebrities(Image={'Bytes': response_content})\n",
    "\n",
    "print(rekognition_response)"
   ]
  },
  {
   "cell_type": "code",
   "execution_count": null,
   "metadata": {},
   "outputs": [],
   "source": [
    "# ----------------------------------------------------------------------------------------------------------\n",
    "# Notice the Name tag in the output above. The image was correctly identified as past US president Barack Obama.\n",
    "# Highlight next cell and Press run.\n",
    "# ----------------------------------------------------------------------------------------------------------"
   ]
  },
  {
   "cell_type": "code",
   "execution_count": 4,
   "metadata": {},
   "outputs": [
    {
     "name": "stdout",
     "output_type": "stream",
     "text": [
      "{u'UnrecognizedFaces': [], u'CelebrityFaces': [{u'MatchConfidence': 100.0, u'Face': {u'BoundingBox': {u'Width': 0.4000000059604645, u'Top': 0.11428571492433548, u'Left': 0.2818181812763214, u'Height': 0.27936509251594543}, u'Confidence': 99.99872589111328, u'Pose': {u'Yaw': -20.682628631591797, u'Roll': 10.413687705993652, u'Pitch': 9.973031044006348}, u'Quality': {u'Sharpness': 98.09814453125, u'Brightness': 78.874755859375}, u'Landmarks': [{u'Y': 0.218977689743042, u'X': 0.4298885464668274, u'Type': u'eyeLeft'}, {u'Y': 0.23248927295207977, u'X': 0.545676589012146, u'Type': u'eyeRight'}, {u'Y': 0.2656586170196533, u'X': 0.44726768136024475, u'Type': u'nose'}, {u'Y': 0.31696897745132446, u'X': 0.40985748171806335, u'Type': u'mouthLeft'}, {u'Y': 0.32582390308380127, u'X': 0.5094131827354431, u'Type': u'mouthRight'}]}, u'Name': u'Shah Rukh Khan', u'Urls': [u'www.imdb.com/name/nm0451321'], u'Id': u'ok8hG6S'}], 'ResponseMetadata': {'RetryAttempts': 0, 'HTTPStatusCode': 200, 'RequestId': 'b9ce971a-caff-4898-aae7-1e79a95e443c', 'HTTPHeaders': {'date': 'Tue, 06 Aug 2019 18:11:50 GMT', 'x-amzn-requestid': 'b9ce971a-caff-4898-aae7-1e79a95e443c', 'content-length': '846', 'content-type': 'application/x-amz-json-1.1', 'connection': 'keep-alive'}}, u'OrientationCorrection': u'ROTATE_0'}"
     ]
    }
   ],
   "source": [
    "url='https://upload.wikimedia.org/wikipedia/commons/thumb/6/6e/Shah_Rukh_Khan_graces_the_launch_of_the_new_Santro.jpg/220px-Shah_Rukh_Khan_graces_the_launch_of_the_new_Santro.jpg'\n",
    "    \n",
    "response = requests.get(url)\n",
    "response_content = response.content\n",
    "\n",
    "rekognition_response = client.recognize_celebrities(Image={'Bytes': response_content})\n",
    "\n",
    "print(rekognition_response)"
   ]
  },
  {
   "cell_type": "code",
   "execution_count": null,
   "metadata": {},
   "outputs": [],
   "source": [
    "# ----------------------------------------------------------------------------------------------------------\n",
    "# This time the image was correctly identified as famous actor Shahrukh Khan.\n",
    "# Highlight next cell and Press run.\n",
    "# ----------------------------------------------------------------------------------------------------------"
   ]
  },
  {
   "cell_type": "code",
   "execution_count": null,
   "metadata": {},
   "outputs": [],
   "source": [
    "# ----------------------------------------------------------------------------------------------------------\n",
    "# Code for this tutorial can be found on Github. Please follow the link below.\\n,\n",
    "# https://github.com/mkukreja1/datauniversity,\n",
    "# We hope you found this tutorial from Data University useful.\n",
    "# Amazon Rekognition is covered in more detail in the Artificial Intelligence module of\n",
    "# the AWS Big Data Specialty course. Please contact us via email at  datauniversity.ca@gmail.com \n",
    "# or call us at 1 647 464 9563   .\n",
    "# ----------------------------------------------------------------------------------------------------------"
   ]
  }
 ],
 "metadata": {
  "kernelspec": {
   "display_name": "Sparkmagic (PySpark)",
   "language": "",
   "name": "pysparkkernel"
  },
  "language_info": {
   "codemirror_mode": {
    "name": "python",
    "version": 2
   },
   "mimetype": "text/x-python",
   "name": "pyspark",
   "pygments_lexer": "python2"
  }
 },
 "nbformat": 4,
 "nbformat_minor": 2
}
