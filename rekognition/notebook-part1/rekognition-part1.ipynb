{
 "cells": [
  {
   "cell_type": "code",
   "execution_count": null,
   "metadata": {},
   "outputs": [],
   "source": [
    "# Amazon Rekognition Notebook Part 1 - Perform simple Image Rekognition"
   ]
  },
  {
   "cell_type": "code",
   "execution_count": null,
   "metadata": {},
   "outputs": [],
   "source": [
    "# ------------------------------------------------------------------------------------------------------------------\n",
    "# Amazon Rekognition is a service that makes it easy to add powerful visual analysis to your applications. \n",
    "# Rekognition Image lets you easily build powerful applications to search, verify, and organize millions of images. \n",
    "# Rekognition Video lets you extract motion-based context from stored or live stream videos and helps you analyze them.\n",
    "# Rekognition detects objects, scenes, and faces; extracts text; recognizes celebrities; and identifies inappropriate \n",
    "# content in images. It also allows you to search and compare faces. Rekognition Image is based on the same proven, \n",
    "# highly scalable, deep learning technology developed by Amazon’s computer vision scientists to analyze billions of \n",
    "# images daily for Prime Photos.\n",
    "# ------------------------------------------------------------------------------------------------------------------"
   ]
  },
  {
   "cell_type": "code",
   "execution_count": null,
   "metadata": {},
   "outputs": [],
   "source": [
    "# -------------------------------------------------------------------------\n",
    "# Import Python Libraries. Press run.\n",
    "# -------------------------------------------------------------------------\n",
    "\n",
    "from pyspark.context import SparkContext\n",
    "import boto3\n",
    "import requests\n",
    "import uuid"
   ]
  },
  {
   "cell_type": "code",
   "execution_count": null,
   "metadata": {},
   "outputs": [],
   "source": [
    "# -------------------------------------------------------------------------------------\n",
    "# Create the Spark Context and a boto3 client for accessing rekognition API's, Press run.\n",
    "# -------------------------------------------------------------------------------------\n",
    "\n",
    "sc = SparkContext.getOrCreate()\n",
    "client = boto3.client('rekognition', region_name='us-east-1')"
   ]
  },
  {
   "cell_type": "code",
   "execution_count": null,
   "metadata": {},
   "outputs": [],
   "source": [
    "# --------------------------------------------------------------------------------------\n",
    "# Lets perform a simple Rekognition. I have placed an image of a dog on S3. The dog\n",
    "# is a Labrador Retriever. Let's see how Rekognition describes this image. Press run.\n",
    "# --------------------------------------------------------------------------------------\n",
    "\n",
    "s3bucket='ai-operations-111'\n",
    "photo='rekognition/dog.jpg'\n",
    "\n",
    "response = client.detect_labels(Image={'S3Object':{'Bucket':s3bucket,'Name':photo}}, MaxLabels=10)\n",
    "\n",
    "for label in response['Labels']:\n",
    "    print (\"Label: \" + label['Name'])\n",
    "    print (\"Confidence: \" + str(label['Confidence']))"
   ]
  },
  {
   "cell_type": "code",
   "execution_count": null,
   "metadata": {},
   "outputs": [],
   "source": [
    "# --------------------------------------------------------------------------------------\n",
    "# Note the labels attached to the image. A label is an object, scene, or concept found in \n",
    "# an image based on its contents.\n",
    "# Also note the confidence for each lable. A confidence score is a number between 0 and 100 \n",
    "# that indicates the probability that a given prediction is correct.\n",
    "# Highlight next cell and Press run.\n",
    "# --------------------------------------------------------------------------------------"
   ]
  },
  {
   "cell_type": "code",
   "execution_count": null,
   "metadata": {},
   "outputs": [],
   "source": [
    "# --------------------------------------------------------------------------------------\n",
    "# Lets perform another Rekognition. This time the image is of police officer standing in\n",
    "# outside the subway station under a street sign.\n",
    "# Highlight next cell and Press run.\n",
    "# --------------------------------------------------------------------------------------"
   ]
  },
  {
   "cell_type": "code",
   "execution_count": null,
   "metadata": {},
   "outputs": [],
   "source": [
    "photo='rekognition/police-sign.jpg'\n",
    "\n",
    "response = client.detect_labels(Image={'S3Object':{'Bucket':s3bucket,'Name':photo}}, MaxLabels=10)\n",
    "\n",
    "for label in response['Labels']:\n",
    "    print (\"Label: \" + label['Name'])\n",
    "    print (\"Confidence: \" + str(label['Confidence']))"
   ]
  },
  {
   "cell_type": "code",
   "execution_count": null,
   "metadata": {},
   "outputs": [],
   "source": [
    "# --------------------------------------------------------------------------------------\n",
    "# Code for this can be found on Github. Please follow the link below.\n",
    "# https://github.com/mkukreja1/datauniversity\n",
    "# We hope you found this tutorial from Data University useful. \n",
    "# Image Amazon Rekognition is covered in more detail in the Artificial Intelligence module of \n",
    "# the AWS Big Data Specialty course. \n",
    "# --------------------------------------------------------------------------------------"
   ]
  }
 ],
 "metadata": {
  "kernelspec": {
   "display_name": "Sparkmagic (PySpark)",
   "language": "",
   "name": "pysparkkernel"
  },
  "language_info": {
   "codemirror_mode": {
    "name": "python",
    "version": 2
   },
   "mimetype": "text/x-python",
   "name": "pyspark",
   "pygments_lexer": "python2"
  }
 },
 "nbformat": 4,
 "nbformat_minor": 2
}
