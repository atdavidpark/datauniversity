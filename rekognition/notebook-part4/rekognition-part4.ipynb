{
 "cells": [
  {
   "cell_type": "code",
   "execution_count": null,
   "metadata": {},
   "outputs": [],
   "source": [
    "# Amazon Rekognition Notebook Part 4 - Compare Faces"
   ]
  },
  {
   "cell_type": "code",
   "execution_count": null,
   "metadata": {},
   "outputs": [],
   "source": [
    "# ------------------------------------------------------------------------------------------------------------------\n",
    "# Amazon Rekognition is a service that makes it easy to add powerful visual analysis to your applications. \n",
    "# Rekognition Image lets you easily build powerful applications to search, verify, and organize millions of images. \n",
    "# Rekognition Video lets you extract motion-based context from stored or live stream videos and helps you analyze them.\n",
    "# Rekognition detects objects, scenes, and faces; extracts text; recognizes celebrities; and identifies inappropriate \n",
    "# content in images. It also allows you to search and compare faces. Rekognition Image is based on the same proven, \n",
    "# highly scalable, deep learning technology developed by Amazon’s computer vision scientists to analyze billions of \n",
    "# images daily for Prime Photos.\n",
    "# ------------------------------------------------------------------------------------------------------------------"
   ]
  },
  {
   "cell_type": "code",
   "execution_count": 1,
   "metadata": {},
   "outputs": [
    {
     "name": "stdout",
     "output_type": "stream",
     "text": [
      "Starting Spark application\n"
     ]
    },
    {
     "data": {
      "text/html": [
       "<table>\n",
       "<tr><th>ID</th><th>YARN Application ID</th><th>Kind</th><th>State</th><th>Spark UI</th><th>Driver log</th><th>Current session?</th></tr><tr><td>4</td><td>application_1565109795194_0005</td><td>pyspark</td><td>idle</td><td><a target=\"_blank\" href=\"http://ip-172-32-139-13.ec2.internal:20888/proxy/application_1565109795194_0005/\">Link</a></td><td><a target=\"_blank\" href=\"http://ip-172-32-147-188.ec2.internal:8042/node/containerlogs/container_1565109795194_0005_01_000001/livy\">Link</a></td><td>✔</td></tr></table>"
      ],
      "text/plain": [
       "<IPython.core.display.HTML object>"
      ]
     },
     "metadata": {},
     "output_type": "display_data"
    },
    {
     "name": "stdout",
     "output_type": "stream",
     "text": [
      "SparkSession available as 'spark'.\n"
     ]
    }
   ],
   "source": [
    "# -------------------------------------------------------------------------\n",
    "# Import Python Libraries. Press run.\n",
    "# -------------------------------------------------------------------------\n",
    "\n",
    "from pyspark.context import SparkContext\n",
    "import boto3\n",
    "import requests\n",
    "import uuid"
   ]
  },
  {
   "cell_type": "code",
   "execution_count": 2,
   "metadata": {},
   "outputs": [],
   "source": [
    "# -------------------------------------------------------------------------------------\n",
    "# Create the Spark Context and a boto3 client for accessing rekognition API's, Press run.\n",
    "# -------------------------------------------------------------------------------------\n",
    "\n",
    "sc = SparkContext.getOrCreate()\n",
    "client = boto3.client('rekognition', region_name='us-east-1')"
   ]
  },
  {
   "cell_type": "code",
   "execution_count": null,
   "metadata": {},
   "outputs": [],
   "source": [
    "# ----------------------------------------------------------------------------------------------------------\n",
    "# Can Amazon Rekognition compare faces? It can. Face Comparison is the process of comparing one face to one \n",
    "# or more faces to measure similarity. I have uploaded 2 images of Tiger Woods for comparison. Let's see \n",
    "# how these faces compare.\n",
    "# Highlight next cell and Press run.\n",
    "# ----------------------------------------------------------------------------------------------------------"
   ]
  },
  {
   "cell_type": "code",
   "execution_count": 3,
   "metadata": {},
   "outputs": [
    {
     "name": "stdout",
     "output_type": "stream",
     "text": [
      "Source Face (99.999961853%)\n",
      "Target Face (99.9999847412%)\n",
      "  Similarity : 99.3212509155%"
     ]
    }
   ],
   "source": [
    "s3bucket='ai-operations-111'\n",
    "KEY_SOURCE = \"rekognition/tiger1.jpg\"\n",
    "KEY_TARGET = \"rekognition/tiger2.jpg\"\n",
    "\n",
    "def compare_faces(bucket, key, bucket_target, key_target, threshold=80, region=\"us-east-1\"):\n",
    "    rekognition = boto3.client(\"rekognition\", region)\n",
    "    response = client.compare_faces(\n",
    "    SourceImage={\n",
    "          \"S3Object\": {\n",
    "          \"Bucket\": bucket,\n",
    "          \"Name\": key,\n",
    "          }\n",
    "        },\n",
    "        TargetImage={\n",
    "           \"S3Object\": {\n",
    "           \"Bucket\": bucket_target,\n",
    "           \"Name\": key_target,\n",
    "           }\n",
    "        },\n",
    "        SimilarityThreshold=threshold,\n",
    "        )\n",
    "    return response['SourceImageFace'], response['FaceMatches']\n",
    "\n",
    "\n",
    "source_face, matches = compare_faces(s3bucket, KEY_SOURCE, s3bucket, KEY_TARGET)\n",
    "\n",
    "# the main source face\n",
    "print \"Source Face ({Confidence}%)\".format(**source_face)\n",
    "#print \"matches: \"+str(matches)\n",
    "\n",
    "# one match for each target face\n",
    "for match in matches:\n",
    "    print \"Target Face ({Confidence}%)\".format(**match['Face'])\n",
    "    print \"  Similarity : {}%\".format(match['Similarity'])\n"
   ]
  },
  {
   "cell_type": "code",
   "execution_count": null,
   "metadata": {},
   "outputs": [],
   "source": [
    "# ----------------------------------------------------------------------------------------------------------\n",
    "# Amazon Rekognition compared the faces and came to the conclusion that the two images are a perfect match \n",
    "# of Tiger Woods.\n",
    "# Highlight next cell and Press run.\n",
    "# ----------------------------------------------------------------------------------------------------------"
   ]
  },
  {
   "cell_type": "code",
   "execution_count": null,
   "metadata": {},
   "outputs": [],
   "source": [
    "# ----------------------------------------------------------------------------------------------------------\n",
    "# This time lets compare Tiger Woods to a Tiger Woods look alike.\n",
    "# I have uploaded the image of Tiger Woods and his look alike for comparison. Let's see \n",
    "# how these faces compare.\n",
    "# Highlight next cell and Press run.\n",
    "# ----------------------------------------------------------------------------------------------------------"
   ]
  },
  {
   "cell_type": "code",
   "execution_count": 4,
   "metadata": {},
   "outputs": [
    {
     "name": "stdout",
     "output_type": "stream",
     "text": [
      "Not a Match"
     ]
    }
   ],
   "source": [
    "BUCKET = \"ai-opertions-111\"\n",
    "KEY_SOURCE = \"rekognition/tiger1.jpg\"\n",
    "KEY_TARGET = \"rekognition/tiger_not.jpg\"\n",
    "\n",
    "def compare_faces(bucket, key, bucket_target, key_target, threshold=80, region=\"eu-west-1\"):\n",
    "    rekognition = boto3.client(\"rekognition\", region)\n",
    "    response = client.compare_faces(\n",
    "    SourceImage={\n",
    "          \"S3Object\": {\n",
    "          \"Bucket\": bucket,\n",
    "          \"Name\": key,\n",
    "          }\n",
    "        },\n",
    "        TargetImage={\n",
    "           \"S3Object\": {\n",
    "           \"Bucket\": bucket_target,\n",
    "           \"Name\": key_target,\n",
    "           }\n",
    "        },\n",
    "        SimilarityThreshold=threshold,\n",
    "        )\n",
    "    return response['SourceImageFace'], response['FaceMatches']\n",
    "\n",
    "\n",
    "source_face, matches = compare_faces(s3bucket, KEY_SOURCE, s3bucket, KEY_TARGET)\n",
    "\n",
    "# the main source face\n",
    "#print \"Source Face ({Confidence}%)\".format(**source_face)\n",
    "if not matches:\n",
    "    print(\"Not a Match\")\n",
    "\n",
    "\n",
    "# one match for each target face\n",
    "for match in matches:\n",
    "    print \"Target Face ({Confidence}%)\".format(**match['Face'])\n",
    "    print \"  Similarity : {}%\".format(match['Similarity'])\n"
   ]
  },
  {
   "cell_type": "code",
   "execution_count": null,
   "metadata": {},
   "outputs": [],
   "source": [
    "# ----------------------------------------------------------------------------------------------------------\n",
    "# It's not a match!!\n",
    "# Highlight next cell and Press run.\n",
    "# ----------------------------------------------------------------------------------------------------------"
   ]
  },
  {
   "cell_type": "code",
   "execution_count": null,
   "metadata": {},
   "outputs": [],
   "source": [
    "# ----------------------------------------------------------------------------------------------------------\n",
    "# Code for this tutorial can be found on Github. Please follow the link below.\\n,\n",
    "# https://github.com/mkukreja1/datauniversity,\n",
    "# We hope you found this tutorial from Data University useful.\n",
    "# Amazon Rekognition is covered in more detail in the Artificial Intelligence module of\n",
    "# the AWS Big Data Specialty course. Please contact us via email at  datauniversity.ca@gmail.com \n",
    "# or call us at 1 647 464 9563   .\n",
    "# ----------------------------------------------------------------------------------------------------------"
   ]
  }
 ],
 "metadata": {
  "kernelspec": {
   "display_name": "Sparkmagic (PySpark)",
   "language": "",
   "name": "pysparkkernel"
  },
  "language_info": {
   "codemirror_mode": {
    "name": "python",
    "version": 2
   },
   "mimetype": "text/x-python",
   "name": "pyspark",
   "pygments_lexer": "python2"
  }
 },
 "nbformat": 4,
 "nbformat_minor": 2
}
