{
 "cells": [
  {
   "cell_type": "code",
   "execution_count": null,
   "metadata": {},
   "outputs": [],
   "source": [
    "# Amazon Rekognition Notebook Part 6 - Object Detection and Emotions"
   ]
  },
  {
   "cell_type": "code",
   "execution_count": 1,
   "metadata": {},
   "outputs": [
    {
     "name": "stdout",
     "output_type": "stream",
     "text": [
      "Starting Spark application\n"
     ]
    },
    {
     "data": {
      "text/html": [
       "<table>\n",
       "<tr><th>ID</th><th>YARN Application ID</th><th>Kind</th><th>State</th><th>Spark UI</th><th>Driver log</th><th>Current session?</th></tr><tr><td>9</td><td>application_1565109795194_0010</td><td>pyspark</td><td>idle</td><td><a target=\"_blank\" href=\"http://ip-172-32-139-13.ec2.internal:20888/proxy/application_1565109795194_0010/\">Link</a></td><td><a target=\"_blank\" href=\"http://ip-172-32-147-188.ec2.internal:8042/node/containerlogs/container_1565109795194_0010_01_000001/livy\">Link</a></td><td>✔</td></tr></table>"
      ],
      "text/plain": [
       "<IPython.core.display.HTML object>"
      ]
     },
     "metadata": {},
     "output_type": "display_data"
    },
    {
     "name": "stdout",
     "output_type": "stream",
     "text": [
      "SparkSession available as 'spark'.\n"
     ]
    }
   ],
   "source": [
    "# ------------------------------------------------------------------------------------------------------------------\n",
    "# Amazon Rekognition is a service that makes it easy to add powerful visual analysis to your applications. \n",
    "# Rekognition Image lets you easily build powerful applications to search, verify, and organize millions of images. \n",
    "# Rekognition Video lets you extract motion-based context from stored or live stream videos and helps you analyze them.\n",
    "# Rekognition detects objects, scenes, and faces; extracts text; recognizes celebrities; and identifies inappropriate \n",
    "# content in images. It also allows you to search and compare faces. Rekognition Image is based on the same proven, \n",
    "# highly scalable, deep learning technology developed by Amazon’s computer vision scientists to analyze billions of \n",
    "# images daily for Prime Photos.\n",
    "# ------------------------------------------------------------------------------------------------------------------"
   ]
  },
  {
   "cell_type": "code",
   "execution_count": 2,
   "metadata": {},
   "outputs": [],
   "source": [
    "# -------------------------------------------------------------------------\n",
    "# Import Python Libraries. Press run.\n",
    "# -------------------------------------------------------------------------\n",
    "\n",
    "from pyspark.context import SparkContext\n",
    "import boto3\n",
    "import requests\n",
    "import uuid"
   ]
  },
  {
   "cell_type": "code",
   "execution_count": 3,
   "metadata": {},
   "outputs": [],
   "source": [
    "# -------------------------------------------------------------------------------------\n",
    "# Create the Spark Context and a boto3 client for accessing rekognition API's, Press run.\n",
    "# -------------------------------------------------------------------------------------\n",
    "\n",
    "sc = SparkContext.getOrCreate()\n",
    "client = boto3.client('rekognition', region_name='us-east-1')"
   ]
  },
  {
   "cell_type": "code",
   "execution_count": null,
   "metadata": {},
   "outputs": [],
   "source": [
    "# ----------------------------------------------------------------------------------------------------------\n",
    "# How can object detection within an image be useful? Imagine a security camera captured a man with a gun in a\n",
    "# busy mall. Image labels can be read by Data Science/Monitoring Algorithms and proper authorities could be \n",
    "# alerted before a mishap happens. \n",
    "# Highlight next cell and Press run.\n",
    "# ----------------------------------------------------------------------------------------------------------"
   ]
  },
  {
   "cell_type": "code",
   "execution_count": 4,
   "metadata": {},
   "outputs": [
    {
     "name": "stdout",
     "output_type": "stream",
     "text": [
      "Label: Person\n",
      "Confidence: 97.282333374\n",
      "Label: Human\n",
      "Confidence: 97.282333374\n",
      "Label: Gun\n",
      "Confidence: 94.5300216675\n",
      "Label: Weapon\n",
      "Confidence: 94.5300216675\n",
      "Label: Weaponry\n",
      "Confidence: 94.5300216675\n",
      "Label: Handgun\n",
      "Confidence: 79.3459777832\n",
      "Label: Shotgun\n",
      "Confidence: 55.4469566345"
     ]
    }
   ],
   "source": [
    "s3bucket='ai-operations-111'\n",
    "photo='rekognition/pistol.jpg'\n",
    "\n",
    "response = client.detect_labels(Image={'S3Object':{'Bucket':s3bucket,'Name':photo}}, MaxLabels=10)\n",
    "\n",
    "for label in response['Labels']:\n",
    "    print (\"Label: \" + label['Name'])\n",
    "    print (\"Confidence: \" + str(label['Confidence']))"
   ]
  },
  {
   "cell_type": "code",
   "execution_count": null,
   "metadata": {},
   "outputs": [],
   "source": [
    "# ----------------------------------------------------------------------------------------------------------\n",
    "# This technology is set to revamp many industries including  security. \n",
    "# Monitoring algorithms can now alert the appropriate  authorities in time so that valuable lives can be saved\n",
    "# Highlight next cell and Press run.\n",
    "# ----------------------------------------------------------------------------------------------------------"
   ]
  },
  {
   "cell_type": "code",
   "execution_count": null,
   "metadata": {},
   "outputs": [],
   "source": [
    "# It's time to go home but your home camera detected this image. Will you take the risk of going home?"
   ]
  },
  {
   "cell_type": "code",
   "execution_count": 5,
   "metadata": {},
   "outputs": [
    {
     "name": "stdout",
     "output_type": "stream",
     "text": [
      "It late, time to go home, but wait you forgot the wedding anniversary. Your wife is ready to welcome you!!"
     ]
    }
   ],
   "source": [
    "import json\n",
    "s3bucket='ai-operations-111'\n",
    "photo='rekognition/angry_wife.jpg'\n",
    "\n",
    "response = client.detect_faces(Image={'S3Object':{'Bucket':s3bucket,'Name':photo}}, Attributes=['ALL'])\n",
    " \n",
    "for face in response['FaceDetails']:\n",
    "    for emotion in face['Emotions']:\n",
    "        #print \"  {Type} : {Confidence}%\".format(**emotion)\n",
    "        if (emotion['Type'] == 'ANGRY' and emotion['Confidence'] > 90):\n",
    "           print \"It late, time to go home, but wait you forgot the wedding anniversary. Your wife is ready to welcome you!! \""
   ]
  },
  {
   "cell_type": "code",
   "execution_count": null,
   "metadata": {},
   "outputs": [],
   "source": [
    "# ----------------------------------------------------------------------------------------------------------\n",
    "# The possibilities are endless. Everyday many large scale organizations are finding new ways to use this \n",
    "# technology. I hope you found this information both informative and useful. Amazon \n",
    "# Rekognition is covered in more detail in the AWS Big Data Speciality training. \n",
    "# ----------------------------------------------------------------------------------------------------------"
   ]
  },
  {
   "cell_type": "code",
   "execution_count": null,
   "metadata": {},
   "outputs": [],
   "source": [
    "# ----------------------------------------------------------------------------------------------------------\n",
    "# Code for this tutorial can be found on Github. Please follow the link below.\\n,\n",
    "# https://github.com/mkukreja1/datauniversity,\n",
    "# We hope you found this tutorial from Data University useful.\n",
    "# Amazon Rekognition is covered in more detail in the Artificial Intelligence module of\n",
    "# the AWS Big Data Specialty course. Please contact us via email at  datauniversity.ca@gmail.com \n",
    "# or call us at 1 647 464 9563   .\n",
    "# ----------------------------------------------------------------------------------------------------------"
   ]
  }
 ],
 "metadata": {
  "kernelspec": {
   "display_name": "Sparkmagic (PySpark)",
   "language": "",
   "name": "pysparkkernel"
  },
  "language_info": {
   "codemirror_mode": {
    "name": "python",
    "version": 2
   },
   "mimetype": "text/x-python",
   "name": "pyspark",
   "pygments_lexer": "python2"
  }
 },
 "nbformat": 4,
 "nbformat_minor": 2
}
