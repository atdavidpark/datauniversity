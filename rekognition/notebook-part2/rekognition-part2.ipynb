{
 "cells": [
  {
   "cell_type": "code",
   "execution_count": null,
   "metadata": {},
   "outputs": [],
   "source": [
    "# Amazon Rekognition Notebook Part 2 - Perform Image Text Rekognition"
   ]
  },
  {
   "cell_type": "code",
   "execution_count": null,
   "metadata": {},
   "outputs": [],
   "source": [
    "# ------------------------------------------------------------------------------------------------------------------\n",
    "# Amazon Rekognition is a service that makes it easy to add powerful visual analysis to your applications. \n",
    "# Rekognition Image lets you easily build powerful applications to search, verify, and organize millions of images. \n",
    "# Rekognition Video lets you extract motion-based context from stored or live stream videos and helps you analyze them.\n",
    "# Rekognition detects objects, scenes, and faces; extracts text; recognizes celebrities; and identifies inappropriate \n",
    "# content in images. It also allows you to search and compare faces. Rekognition Image is based on the same proven, \n",
    "# highly scalable, deep learning technology developed by Amazon’s computer vision scientists to analyze billions of \n",
    "# images daily for Prime Photos.\n",
    "# ------------------------------------------------------------------------------------------------------------------"
   ]
  },
  {
   "cell_type": "code",
   "execution_count": null,
   "metadata": {},
   "outputs": [],
   "source": [
    "# -------------------------------------------------------------------------\n",
    "# Import Python Libraries. Press run.\n",
    "# -------------------------------------------------------------------------\n",
    "\n",
    "from pyspark.context import SparkContext\n",
    "import boto3\n",
    "import requests\n",
    "import uuid"
   ]
  },
  {
   "cell_type": "code",
   "execution_count": null,
   "metadata": {},
   "outputs": [],
   "source": [
    "# -------------------------------------------------------------------------------------\n",
    "# Create the Spark Context and a boto3 client for accessing rekognition API's, Press run.\n",
    "# -------------------------------------------------------------------------------------\n",
    "\n",
    "sc = SparkContext.getOrCreate()\n",
    "client = boto3.client('rekognition', region_name='us-east-1')"
   ]
  },
  {
   "cell_type": "code",
   "execution_count": null,
   "metadata": {},
   "outputs": [],
   "source": [
    "# --------------------------------------------------------------------------------------\n",
    "# We had performed a simple image rekognition in part 1 of the tutorial. \n",
    "# Lets check the results one more time.\n",
    "# Highlight next cell and Press run.\n",
    "# --------------------------------------------------------------------------------------"
   ]
  },
  {
   "cell_type": "code",
   "execution_count": null,
   "metadata": {},
   "outputs": [],
   "source": [
    "s3bucket='ai-operations-111'\n",
    "photo='rekognition/police-sign.jpg'\n",
    "\n",
    "response = client.detect_labels(Image={'S3Object':{'Bucket':s3bucket,'Name':photo}}, MaxLabels=10)\n",
    "\n",
    "for label in response['Labels']:\n",
    "    print (\"Label: \" + label['Name'])\n",
    "    print (\"Confidence: \" + str(label['Confidence']))"
   ]
  },
  {
   "cell_type": "code",
   "execution_count": null,
   "metadata": {},
   "outputs": [],
   "source": [
    "# ----------------------------------------------------------------------------------------------------------\n",
    "# How cool it would be if the street sign could be read as text. Imagine the possibilities that\n",
    "# could open up. Text in Image is a capability of Amazon Rekognition that allows you to detect and recognize \n",
    "# text within an image, such as street names, captions, product names, and vehicular license plates.\n",
    "# Highlight next cell and Press run.\n",
    "# ----------------------------------------------------------------------------------------------------------"
   ]
  },
  {
   "cell_type": "code",
   "execution_count": null,
   "metadata": {},
   "outputs": [],
   "source": [
    "photo='rekognition/police-sign.jpg'\n",
    "\n",
    "response = client.detect_text(Image={'S3Object':{'Bucket':s3bucket,'Name':photo}})\n",
    "\n",
    "textDetections=response['TextDetections']\n",
    "print ('Detected text')\n",
    "for text in textDetections:\n",
    "    print ('Detected text:' + text['DetectedText'])\n",
    "    print ('Confidence: ' + \"{:.2f}\".format(text['Confidence']) + \"%\")\n",
    "    print ('Id: {}'.format(text['Id']))\n",
    "    if 'ParentId' in text:\n",
    "        print ('Parent Id: {}'.format(text['ParentId']))\n",
    "    print ('Type:' + text['Type'])\n",
    "    print"
   ]
  },
  {
   "cell_type": "code",
   "execution_count": null,
   "metadata": {},
   "outputs": [],
   "source": [
    "# ----------------------------------------------------------------------------------------------------------\n",
    "# Notice the Detected Text fields above. Rekognition correctly detected the text from the street sign as\n",
    "# 90 Saint.Eimhurst Av.. It also recognized another piece of text from a yellow parking lot sign.\n",
    "# Highlight next cell and Press run.\n",
    "# ----------------------------------------------------------------------------------------------------------"
   ]
  },
  {
   "cell_type": "code",
   "execution_count": null,
   "metadata": {},
   "outputs": [],
   "source": [
    "# ----------------------------------------------------------------------------------------------------------\n",
    "# Code for this tutorial can be found on Github. Please follow the link below.\\n,\n",
    "# https://github.com/mkukreja1/datauniversity,\n",
    "# We hope you found this tutorial from Data University useful.\n",
    "# Amazon Rekognition is covered in more detail in the Artificial Intelligence module of\n",
    "# the AWS Big Data Specialty course. Please contact us viam email at  datauniversity.ca@gmail.com \n",
    "# or call us at 1 647 464 9563\n",
    "# ----------------------------------------------------------------------------------------------------------"
   ]
  }
 ],
 "metadata": {
  "kernelspec": {
   "display_name": "Sparkmagic (PySpark)",
   "language": "",
   "name": "pysparkkernel"
  },
  "language_info": {
   "codemirror_mode": {
    "name": "python",
    "version": 2
   },
   "mimetype": "text/x-python",
   "name": "pyspark",
   "pygments_lexer": "python2"
  }
 },
 "nbformat": 4,
 "nbformat_minor": 2
}
