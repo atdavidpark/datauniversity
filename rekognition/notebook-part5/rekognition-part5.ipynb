{
 "cells": [
  {
   "cell_type": "code",
   "execution_count": null,
   "metadata": {},
   "outputs": [],
   "source": [
    "# Amazon Rekognition Notebook Part 5 - Face Comparisons"
   ]
  },
  {
   "cell_type": "code",
   "execution_count": null,
   "metadata": {},
   "outputs": [],
   "source": [
    "# ------------------------------------------------------------------------------------------------------------------\n",
    "# Amazon Rekognition is a service that makes it easy to add powerful visual analysis to your applications. \n",
    "# Rekognition Image lets you easily build powerful applications to search, verify, and organize millions of images. \n",
    "# Rekognition Video lets you extract motion-based context from stored or live stream videos and helps you analyze them.\n",
    "# Rekognition detects objects, scenes, and faces; extracts text; recognizes celebrities; and identifies inappropriate \n",
    "# content in images. It also allows you to search and compare faces. Rekognition Image is based on the same proven, \n",
    "# highly scalable, deep learning technology developed by Amazon’s computer vision scientists to analyze billions of \n",
    "# images daily for Prime Photos.\n",
    "# ------------------------------------------------------------------------------------------------------------------"
   ]
  },
  {
   "cell_type": "code",
   "execution_count": 1,
   "metadata": {},
   "outputs": [
    {
     "name": "stdout",
     "output_type": "stream",
     "text": [
      "Starting Spark application\n"
     ]
    },
    {
     "data": {
      "text/html": [
       "<table>\n",
       "<tr><th>ID</th><th>YARN Application ID</th><th>Kind</th><th>State</th><th>Spark UI</th><th>Driver log</th><th>Current session?</th></tr><tr><td>7</td><td>application_1565109795194_0008</td><td>pyspark</td><td>idle</td><td><a target=\"_blank\" href=\"http://ip-172-32-139-13.ec2.internal:20888/proxy/application_1565109795194_0008/\">Link</a></td><td><a target=\"_blank\" href=\"http://ip-172-32-147-188.ec2.internal:8042/node/containerlogs/container_1565109795194_0008_01_000001/livy\">Link</a></td><td>✔</td></tr></table>"
      ],
      "text/plain": [
       "<IPython.core.display.HTML object>"
      ]
     },
     "metadata": {},
     "output_type": "display_data"
    },
    {
     "name": "stdout",
     "output_type": "stream",
     "text": [
      "SparkSession available as 'spark'.\n"
     ]
    }
   ],
   "source": [
    "# -------------------------------------------------------------------------\n",
    "# Import Python Libraries. Press run.\n",
    "# -------------------------------------------------------------------------\n",
    "\n",
    "from pyspark.context import SparkContext\n",
    "import boto3\n",
    "import requests\n",
    "import uuid"
   ]
  },
  {
   "cell_type": "code",
   "execution_count": 2,
   "metadata": {},
   "outputs": [],
   "source": [
    "# -------------------------------------------------------------------------------------\n",
    "# Create the Spark Context and a boto3 client for accessing rekognition API's, Press run.\n",
    "# -------------------------------------------------------------------------------------\n",
    "\n",
    "sc = SparkContext.getOrCreate()\n",
    "client = boto3.client('rekognition', region_name='us-east-1')"
   ]
  },
  {
   "cell_type": "code",
   "execution_count": null,
   "metadata": {},
   "outputs": [],
   "source": [
    "# ----------------------------------------------------------------------------------------------------------\n",
    "# Amazon Rekognition can store information about detected faces in server-side containers known as collections. \n",
    "# You can use the facial information that's stored in a collection to search for known faces in images, stored \n",
    "# videos, and streaming videos. Let' store the image of Tiger Woods in a new collection.\n",
    "# Highlight next cell and Press run.\n",
    "# ----------------------------------------------------------------------------------------------------------"
   ]
  },
  {
   "cell_type": "code",
   "execution_count": 3,
   "metadata": {},
   "outputs": [
    {
     "name": "stdout",
     "output_type": "stream",
     "text": [
      "  FaceId: 3b27eb96-2eda-4e5f-a803-e675f19d0838\n",
      "  ImageId: 1bfa2bd0-a37c-328f-b3ef-3d3d035a2ecf"
     ]
    }
   ],
   "source": [
    "COLLECTION = \"rek-collection-1\"\n",
    "client.create_collection(CollectionId=COLLECTION)\n",
    "client.list_collections()\n",
    "\n",
    "BUCKET = \"ai-operations-111\"\n",
    "KEY = \"rekognition/tiger1.jpg\"\n",
    "\n",
    "IMAGE_ID = uuid.uuid4().hex  \n",
    "\n",
    "def index_face(bucket, key, collection_id, image_id=None, attributes=(), region=\"us-east-1\"):\n",
    "\n",
    "    response = client.index_faces(\n",
    "                                 Image={\n",
    "                                 \"S3Object\": {\n",
    "                                 \"Bucket\": bucket,\n",
    "                                 \"Name\": key,\n",
    "                                 }\n",
    "                                 },\n",
    "                                 CollectionId=collection_id,\n",
    "                                 ExternalImageId=image_id,\n",
    "                                     DetectionAttributes=attributes,\n",
    "                                 )\n",
    "    return response['FaceRecords']\n",
    "\n",
    "\n",
    "for record in index_face(BUCKET, KEY, COLLECTION, IMAGE_ID):\n",
    "    face = record['Face']\n",
    "    print \"  FaceId: {}\".format(face['FaceId'])\n",
    "    print \"  ImageId: {}\".format(face['ImageId'])\n"
   ]
  },
  {
   "cell_type": "code",
   "execution_count": null,
   "metadata": {},
   "outputs": [],
   "source": [
    "# ----------------------------------------------------------------------------------------------------------\n",
    "# Now let's search for Tiger Woods in our collections database using a completely new picture.\n",
    "# Highlight next cell and Press run.\n",
    "# ----------------------------------------------------------------------------------------------------------"
   ]
  },
  {
   "cell_type": "code",
   "execution_count": 4,
   "metadata": {},
   "outputs": [
    {
     "name": "stdout",
     "output_type": "stream",
     "text": [
      "Matched Face (98.2003479004%)\n",
      "  FaceId : 3b27eb96-2eda-4e5f-a803-e675f19d0838\n",
      "  ImageId : a8c5f5e30be34d28912f682e0729f1f4"
     ]
    }
   ],
   "source": [
    "KEY = \"rekognition/search_tiger.jpg\"\n",
    "\n",
    "def search_faces_by_image(bucket, key, collection_id, threshold=80, region=\"eu-west-1\"):\n",
    "    response = client.search_faces_by_image(\n",
    "                         Image={\n",
    "                         \"S3Object\": {\n",
    "                         \"Bucket\": bucket,\n",
    "                         \"Name\": key,\n",
    "                         }\n",
    "                         },\n",
    "                         CollectionId=collection_id,\n",
    "                         FaceMatchThreshold=threshold,\n",
    "                         )\n",
    "    return response['FaceMatches']\n",
    "\n",
    "for record in search_faces_by_image(BUCKET, KEY, COLLECTION):\n",
    "        face = record['Face']\n",
    "        print \"Matched Face ({}%)\".format(record['Similarity'])\n",
    "        print \"  FaceId : {}\".format(face['FaceId'])\n",
    "        print \"  ImageId : {}\".format(face['ExternalImageId'])"
   ]
  },
  {
   "cell_type": "code",
   "execution_count": null,
   "metadata": {},
   "outputs": [],
   "source": [
    "# ----------------------------------------------------------------------------------------------------------\n",
    "# Looks like the picture matched. Comparing faces within collections goes a long way in Master Data \n",
    "# Management  initiatives.\n",
    "# Highlight next cell and Press run.\n",
    "# ----------------------------------------------------------------------------------------------------------"
   ]
  },
  {
   "cell_type": "code",
   "execution_count": null,
   "metadata": {},
   "outputs": [],
   "source": [
    "# ----------------------------------------------------------------------------------------------------------\n",
    "# Now let's search for Will Smith in our collections database.\n",
    "# Highlight next cell and Press run.\n",
    "# ----------------------------------------------------------------------------------------------------------"
   ]
  },
  {
   "cell_type": "code",
   "execution_count": 5,
   "metadata": {},
   "outputs": [
    {
     "name": "stdout",
     "output_type": "stream",
     "text": [
      "This face is not in our database"
     ]
    }
   ],
   "source": [
    "KEY = \"rekognition/will.jpg\"\n",
    "\n",
    "def search_faces_by_image(bucket, key, collection_id, threshold=80, region=\"eu-west-1\"):\n",
    "    response = client.search_faces_by_image(\n",
    "                 Image={\n",
    "                      \"S3Object\": {\n",
    "                      \"Bucket\": bucket,\n",
    "                      \"Name\": key,\n",
    "                 }\n",
    "                 },\n",
    "                 CollectionId=collection_id,\n",
    "                 FaceMatchThreshold=threshold,\n",
    "                 )\n",
    "    return response['FaceMatches']\n",
    "\n",
    "for record in search_faces_by_image(BUCKET, KEY, COLLECTION):\n",
    "        face = record['Face']\n",
    "        print \"Matched Face ({}%)\".format(record['Similarity'])\n",
    "        print \"  FaceId : {}\".format(face['FaceId'])\n",
    "        print \"  ImageId : {}\".format(face['ExternalImageId'])\n",
    "else:\n",
    "    print('This face is not in our database')"
   ]
  },
  {
   "cell_type": "code",
   "execution_count": null,
   "metadata": {},
   "outputs": [],
   "source": [
    "# ----------------------------------------------------------------------------------------------------------\n",
    "# Will Smith does not exist in our collections database.\n",
    "# Highlight next cell and Press run.\n",
    "# ----------------------------------------------------------------------------------------------------------"
   ]
  },
  {
   "cell_type": "code",
   "execution_count": 6,
   "metadata": {},
   "outputs": [
    {
     "name": "stdout",
     "output_type": "stream",
     "text": [
      "{u'FaceModelVersions': [], 'ResponseMetadata': {'RetryAttempts': 0, 'HTTPStatusCode': 200, 'RequestId': '2a3878d4-312e-48d6-9d65-bf10b4ad3215', 'HTTPHeaders': {'date': 'Tue, 06 Aug 2019 20:12:11 GMT', 'x-amzn-requestid': '2a3878d4-312e-48d6-9d65-bf10b4ad3215', 'content-length': '43', 'content-type': 'application/x-amz-json-1.1', 'connection': 'keep-alive'}}, u'CollectionIds': []}"
     ]
    }
   ],
   "source": [
    "client.delete_collection(CollectionId=COLLECTION)\n",
    "client.list_collections()"
   ]
  },
  {
   "cell_type": "code",
   "execution_count": null,
   "metadata": {},
   "outputs": [],
   "source": [
    "# ----------------------------------------------------------------------------------------------------------\n",
    "# Code for this tutorial can be found on Github. Please follow the link below.\\n,\n",
    "# https://github.com/mkukreja1/datauniversity,\n",
    "# We hope you found this tutorial from Data University useful.\n",
    "# Amazon Rekognition is covered in more detail in the Artificial Intelligence module of\n",
    "# the AWS Big Data Specialty course. Please contact us via email at  datauniversity.ca@gmail.com \n",
    "# or call us at 1 647 464 9563   .\n",
    "# ----------------------------------------------------------------------------------------------------------"
   ]
  }
 ],
 "metadata": {
  "kernelspec": {
   "display_name": "Sparkmagic (PySpark)",
   "language": "",
   "name": "pysparkkernel"
  },
  "language_info": {
   "codemirror_mode": {
    "name": "python",
    "version": 2
   },
   "mimetype": "text/x-python",
   "name": "pyspark",
   "pygments_lexer": "python2"
  }
 },
 "nbformat": 4,
 "nbformat_minor": 2
}
