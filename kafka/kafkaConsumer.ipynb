{
 "cells": [
  {
   "cell_type": "code",
   "execution_count": null,
   "metadata": {},
   "outputs": [],
   "source": [
    "import time\n",
    "import json\n",
    "from kafka import KafkaConsumer\n",
    "from pandas import DataFrame"
   ]
  },
  {
   "cell_type": "code",
   "execution_count": null,
   "metadata": {},
   "outputs": [],
   "source": [
    "brokers='localhost:9092'\n",
    "topic='Bitcoin'\n",
    "sleep_time=30\n",
    "offset='latest'"
   ]
  },
  {
   "cell_type": "code",
   "execution_count": null,
   "metadata": {},
   "outputs": [],
   "source": [
    "consumer = KafkaConsumer(bootstrap_servers=brokers, auto_offset_reset=offset,consumer_timeout_ms=1000)\n",
    "consumer.subscribe([topic]) "
   ]
  },
  {
   "cell_type": "code",
   "execution_count": null,
   "metadata": {},
   "outputs": [],
   "source": [
    "prev_price=0\n",
    "while(True):\n",
    "    for message in consumer:\n",
    "        #print(message)\n",
    "        d=json.loads(message.value)\n",
    "        df=DataFrame(d)\n",
    "        #print(df.head(1))\n",
    "        new_price=float(df['USD'][1])\n",
    "        strike_price=round(prev_price - 0.0005*(prev_price), 2)\n",
    "        \n",
    "        print(\"Previous price  : \" + str(prev_price))\n",
    "        print(\"New price       : \" + str(new_price))\n",
    "        print(\"Strike Price    : \" + str(strike_price))\n",
    "        \n",
    "        if ( new_price < strike_price ):\n",
    "            print \"Price is less that previous values by 0.05%. Maybe time to initiate a BUY.\"\n",
    "        \n",
    "        prev_price=float(df['USD'][1])\n",
    "        print(\"-----------------------------------------\")\n",
    "        \n",
    "        \n",
    "    time.sleep(sleep_time)"
   ]
  },
  {
   "cell_type": "code",
   "execution_count": null,
   "metadata": {},
   "outputs": [],
   "source": []
  },
  {
   "cell_type": "code",
   "execution_count": null,
   "metadata": {},
   "outputs": [],
   "source": []
  }
 ],
 "metadata": {
  "kernelspec": {
   "display_name": "Python 2",
   "language": "python",
   "name": "python2"
  },
  "language_info": {
   "codemirror_mode": {
    "name": "ipython",
    "version": 2
   },
   "file_extension": ".py",
   "mimetype": "text/x-python",
   "name": "python",
   "nbconvert_exporter": "python",
   "pygments_lexer": "ipython2",
   "version": "2.7.16"
  }
 },
 "nbformat": 4,
 "nbformat_minor": 2
}
