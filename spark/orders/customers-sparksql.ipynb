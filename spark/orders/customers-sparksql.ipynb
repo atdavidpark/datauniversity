{
 "cells": [
  {
   "cell_type": "code",
   "execution_count": 1,
   "metadata": {},
   "outputs": [],
   "source": [
    "import findspark\n",
    "import datetime\n",
    "findspark.init()\n",
    "from pyspark import SparkContext\n",
    "sc = SparkContext(\"local\", \"first app\")\n",
    "#print(sc)"
   ]
  },
  {
   "cell_type": "code",
   "execution_count": 2,
   "metadata": {},
   "outputs": [],
   "source": [
    "from pyspark.sql import SQLContext\n",
    "from pyspark.sql import HiveContext\n",
    "from pyspark.sql.functions import *\n",
    "from pyspark.sql.types import DateType, IntegerType\n",
    "import matplotlib\n",
    "import matplotlib.pyplot as plt\n",
    "import pandas as pd\n",
    "from pyspark.sql.window import Window\n",
    "import pyspark.sql.functions as func\n",
    "\n",
    "sqlContext = HiveContext(sc)"
   ]
  },
  {
   "cell_type": "code",
   "execution_count": 3,
   "metadata": {},
   "outputs": [],
   "source": [
    "# Read file for HDFS\n",
    "employees=sc.textFile(\"hdfs://quickstart.cloudera:8020/data/orders/employees\")\n",
    "offices=sc.textFile(\"hdfs://quickstart.cloudera:8020/data/orders/offices\")\n",
    "customers=sc.textFile(\"hdfs://quickstart.cloudera:8020/data/orders/customers\")"
   ]
  },
  {
   "cell_type": "code",
   "execution_count": 4,
   "metadata": {},
   "outputs": [
    {
     "name": "stdout",
     "output_type": "stream",
     "text": [
      "+--------------+---------+---------+---------+--------------------+----------+---------+---------+\n",
      "|employeeNumber| lastName|firstName|extension|               email|officeCode|reportsTo| jobTitle|\n",
      "+--------------+---------+---------+---------+--------------------+----------+---------+---------+\n",
      "|          1002|   Murphy|    Diane|    x5800|dmurphy@classicmo...|         1|       \\N|President|\n",
      "|          1056|Patterson|     Mary|    x4611|mpatterso@classic...|         1|     1002| VP Sales|\n",
      "+--------------+---------+---------+---------+--------------------+----------+---------+---------+\n",
      "only showing top 2 rows\n",
      "\n"
     ]
    }
   ],
   "source": [
    "# Create a Dataframe for employees\n",
    "employeesrdd=employees.map(lambda line: (line.split('|')[0].strip('\"'), \n",
    "                                   line.split('|')[1].strip('\"'),\n",
    "                                   line.split('|')[2].strip('\"'),\n",
    "                                   line.split('|')[3].strip('\"'), \n",
    "                                   line.split('|')[4].strip('\"'),\n",
    "                                   line.split('|')[5].strip('\"'),\n",
    "                                   line.split('|')[6].strip('\"'),\n",
    "                                   line.split('|')[7].strip('\"'))).collect()\n",
    "df_employees=sqlContext.createDataFrame(employeesrdd, schema=['employeeNumber', 'lastName',       \n",
    "                                                              'firstName', 'extension',      \n",
    "                                                              'email','officeCode',     \n",
    "                                                              'reportsTo','jobTitle'])\n",
    "df_employees.show(2)"
   ]
  },
  {
   "cell_type": "code",
   "execution_count": 6,
   "metadata": {
    "scrolled": true
   },
   "outputs": [
    {
     "name": "stdout",
     "output_type": "stream",
     "text": [
      "+--------------+------------------+---------------+----------------+----------+---------------+------------+---------+-----+----------+-------+----------------------+-----------+\n",
      "|customerNumber|      customerName|contactLastName|contactFirstName|     phone|   addressLine1|addressLine2|     city|state|postalCode|country|salesRepEmployeeNumber|creditLimit|\n",
      "+--------------+------------------+---------------+----------------+----------+---------------+------------+---------+-----+----------+-------+----------------------+-----------+\n",
      "|           103| Atelier graphique|        Schmitt|         Carine |40.32.2555| 54, rue Royale|          \\N|   Nantes|   \\N|     44000| France|                  1370|   21000.00|\n",
      "|           112|Signal Gift Stores|           King|            Jean|7025551838|8489 Strong St.|          \\N|Las Vegas|   NV|     83030|    USA|                  1166|   71800.00|\n",
      "+--------------+------------------+---------------+----------------+----------+---------------+------------+---------+-----+----------+-------+----------------------+-----------+\n",
      "only showing top 2 rows\n",
      "\n"
     ]
    }
   ],
   "source": [
    "# Create a Dataframe for customers\n",
    "customersrdd=customers.map(lambda line: (line.split('|')[0].strip('\"'), \n",
    "                                   line.split('|')[1].strip('\"'),\n",
    "                                   line.split('|')[2].strip('\"'),\n",
    "                                   line.split('|')[3].strip('\"'), \n",
    "                                   line.split('|')[4].strip('\"'),\n",
    "                                   line.split('|')[5].strip('\"'),\n",
    "                                   line.split('|')[6].strip('\"'),\n",
    "                                   line.split('|')[7].strip('\"'),\n",
    "                                   line.split('|')[8].strip('\"'),\n",
    "                                   line.split('|')[9].strip('\"'), \n",
    "                                   line.split('|')[10].strip('\"'),\n",
    "                                   line.split('|')[11].strip('\"'),\n",
    "                                   line.split('|')[12].strip('\"'))).collect()\n",
    "df_customers=sqlContext.createDataFrame(customersrdd, schema=['customerNumber', 'customerName',          \n",
    "                                                                'contactLastName', 'contactFirstName',      \n",
    "                                                                'phone', 'addressLine1',          \n",
    "                                                                'addressLine2', 'city',                  \n",
    "                                                                'state', 'postalCode',            \n",
    "                                                                'country', 'salesRepEmployeeNumber',\n",
    "                                                                'creditLimit' ])\n",
    "\n",
    "df_customer1 = df_customers.select(df_customers.creditLimit.cast(IntegerType()),\n",
    "                                   'customerName', 'country')\n",
    "df_customers.show(2)"
   ]
  },
  {
   "cell_type": "code",
   "execution_count": 7,
   "metadata": {
    "scrolled": true
   },
   "outputs": [
    {
     "name": "stdout",
     "output_type": "stream",
     "text": [
      "+----------+-------------+---------------+-----------------+------------+-----+-------+----------+---------+\n",
      "|officeCode|         city|          phone|     addressLine1|addressLine2|state|country|postalCode|territory|\n",
      "+----------+-------------+---------------+-----------------+------------+-----+-------+----------+---------+\n",
      "|         1|San Francisco|+1 650 219 4782|100 Market Street|   Suite 300|   CA|    USA|     94080|       NA|\n",
      "|         2|       Boston|+1 215 837 0825| 1550 Court Place|   Suite 102|   MA|    USA|     02107|       NA|\n",
      "+----------+-------------+---------------+-----------------+------------+-----+-------+----------+---------+\n",
      "only showing top 2 rows\n",
      "\n"
     ]
    }
   ],
   "source": [
    "# Create a Dataframe for offices\n",
    "officesrdd=offices.map(lambda line: (line.split('|')[0].strip('\"'), \n",
    "                                   line.split('|')[1].strip('\"'),\n",
    "                                   line.split('|')[2].strip('\"'),\n",
    "                                   line.split('|')[3].strip('\"'), \n",
    "                                   line.split('|')[4].strip('\"'),\n",
    "                                   line.split('|')[5].strip('\"'),\n",
    "                                   line.split('|')[6].strip('\"'),\n",
    "                                   line.split('|')[7].strip('\"'),\n",
    "                                   line.split('|')[8].strip('\"'))).collect()\n",
    "df_offices=sqlContext.createDataFrame(officesrdd, schema=['officeCode', 'city',         \n",
    "                                                            'phone', 'addressLine1', \n",
    "                                                            'addressLine2', 'state',        \n",
    "                                                            'country', 'postalCode',   \n",
    "                                                            'territory'  ])\n",
    "df_offices.show(2)"
   ]
  },
  {
   "cell_type": "code",
   "execution_count": 8,
   "metadata": {},
   "outputs": [
    {
     "name": "stdout",
     "output_type": "stream",
     "text": [
      "+-------------+\n",
      "|cnt_employees|\n",
      "+-------------+\n",
      "|           23|\n",
      "+-------------+\n",
      "\n",
      "+-------------+\n",
      "|cnt_customers|\n",
      "+-------------+\n",
      "|          122|\n",
      "+-------------+\n",
      "\n",
      "+-----------+\n",
      "|cnt_offices|\n",
      "+-----------+\n",
      "|          7|\n",
      "+-----------+\n",
      "\n"
     ]
    }
   ],
   "source": [
    "# Register tables for for employees, customers and offices\n",
    "df_employees.registerTempTable('myemployees')\n",
    "rowemployees = sqlContext.sql(\"select count(*) as cnt_employees from myemployees\")\n",
    "rowemployees.show(1)\n",
    "\n",
    "df_customers.registerTempTable('mycustomers')\n",
    "rowcustomers = sqlContext.sql(\"select count(*) as cnt_customers from mycustomers\")\n",
    "rowcustomers.show(1)\n",
    "\n",
    "df_offices.registerTempTable('myoffices')\n",
    "rowoffices = sqlContext.sql(\"select count(*) as cnt_offices from myoffices\")\n",
    "rowoffices.show(1)"
   ]
  },
  {
   "cell_type": "code",
   "execution_count": 9,
   "metadata": {},
   "outputs": [
    {
     "name": "stdout",
     "output_type": "stream",
     "text": [
      "+---------------+-------------+\n",
      "|  employee_name|  office_city|\n",
      "+---------------+-------------+\n",
      "|   Diane Murphy|San Francisco|\n",
      "| Mary Patterson|San Francisco|\n",
      "|  Jeff Firrelli|San Francisco|\n",
      "|    Anthony Bow|San Francisco|\n",
      "|Leslie Jennings|San Francisco|\n",
      "+---------------+-------------+\n",
      "only showing top 5 rows\n",
      "\n"
     ]
    }
   ],
   "source": [
    "# Use Spark SQL to find the city of the office for each employee\n",
    "emp_office_sql =  \" SELECT CONCAT(firstName, ' ', lastName) AS employee_name, myoffices.city AS office_city\" \\\n",
    "                  \" FROM myemployees \" \\\n",
    "                  \" JOIN myoffices ON myemployees.officeCode=myoffices.officeCode\"\n",
    "df_office  = sqlContext.sql(emp_office_sql)\n",
    "df_office.show(5)"
   ]
  },
  {
   "cell_type": "code",
   "execution_count": 10,
   "metadata": {},
   "outputs": [
    {
     "name": "stdout",
     "output_type": "stream",
     "text": [
      "+-------------+---------+\n",
      "|         city|employees|\n",
      "+-------------+---------+\n",
      "|        Paris|        5|\n",
      "|San Francisco|        6|\n",
      "|       London|        2|\n",
      "|       Boston|        2|\n",
      "|          NYC|        2|\n",
      "+-------------+---------+\n",
      "only showing top 5 rows\n",
      "\n"
     ]
    }
   ],
   "source": [
    "# Use Spark SQL to find the number of employees per city\n",
    "emp_city_sql =  \" SELECT myoffices.city AS city, count(*) AS employees\" \\\n",
    "                  \" FROM myemployees \" \\\n",
    "                  \" JOIN myoffices ON myemployees.officeCode=myoffices.officeCode \" \\\n",
    "                  \" GROUP BY myoffices.city\"\n",
    "df_city = sqlContext.sql(emp_city_sql)\n",
    "df_city.show(5)"
   ]
  },
  {
   "cell_type": "code",
   "execution_count": 11,
   "metadata": {},
   "outputs": [
    {
     "name": "stdout",
     "output_type": "stream",
     "text": [
      "+---------------+-----------+\n",
      "|  employee_name|    manager|\n",
      "+---------------+-----------+\n",
      "|Leslie Jennings|Anthony Bow|\n",
      "|Leslie Thompson|Anthony Bow|\n",
      "| Julie Firrelli|Anthony Bow|\n",
      "|Steve Patterson|Anthony Bow|\n",
      "| Foon Yue Tseng|Anthony Bow|\n",
      "+---------------+-----------+\n",
      "only showing top 5 rows\n",
      "\n"
     ]
    }
   ],
   "source": [
    "# Use Spark SQL to find the reporting manager for each employee\n",
    "emp_report_sql =  \" SELECT CONCAT(e.firstName, ' ', e.lastName) AS employee_name, \" \\\n",
    "                  \" CONCAT(r.firstName, ' ', r.lastName) AS manager \" \\\n",
    "                  \" FROM myemployees e\" \\\n",
    "                  \" JOIN myemployees r ON e.reportsTo=r.employeeNumber \" \n",
    "                  \n",
    "df_report = sqlContext.sql(emp_report_sql)\n",
    "df_report.show(5)"
   ]
  },
  {
   "cell_type": "code",
   "execution_count": 12,
   "metadata": {},
   "outputs": [
    {
     "name": "stdout",
     "output_type": "stream",
     "text": [
      "+--------------------+--------------+\n",
      "|       customer_name|  salerep_name|\n",
      "+--------------------+--------------+\n",
      "|   Land of Toys Inc.| George Vanauf|\n",
      "|     Gift Depot Inc.| George Vanauf|\n",
      "|Canadian Gift Exc...| George Vanauf|\n",
      "|Royal Canadian Co...| George Vanauf|\n",
      "|       Mini Classics| George Vanauf|\n",
      "|Tekni Collectable...| George Vanauf|\n",
      "|    Gift Ideas Corp.| George Vanauf|\n",
      "|Motor Mint Distri...| George Vanauf|\n",
      "|  Muscle Machine Inc|Foon Yue Tseng|\n",
      "|American Souvenir...|Foon Yue Tseng|\n",
      "|     Vitachrome Inc.|Foon Yue Tseng|\n",
      "|Québec Home Shopp...|Foon Yue Tseng|\n",
      "|Classic Legends Inc.|Foon Yue Tseng|\n",
      "|    Super Scale Inc.|Foon Yue Tseng|\n",
      "|     Microscale Inc.|Foon Yue Tseng|\n",
      "+--------------------+--------------+\n",
      "\n"
     ]
    }
   ],
   "source": [
    "# Use Spark SQL to find the Sales Rep (based in NYC) for each customer \n",
    "emp_salesrep_sql =  \" SELECT c.customerName AS customer_name, \" \\\n",
    "                    \" CONCAT(e.firstName, ' ', e.lastName) AS salerep_name\" \\\n",
    "                    \" FROM mycustomers c\" \\\n",
    "                    \" JOIN myemployees e ON e.employeeNumber=c.salesRepEmployeeNumber \" \\\n",
    "                    \" JOIN myoffices o ON e.officeCode=o.officeCode  \" \\\n",
    "                    \" WHERE o.city='NYC'\"\n",
    "df_salesrep = sqlContext.sql(emp_salesrep_sql)\n",
    "df_salesrep.show()"
   ]
  },
  {
   "cell_type": "code",
   "execution_count": 13,
   "metadata": {},
   "outputs": [
    {
     "name": "stdout",
     "output_type": "stream",
     "text": [
      "root\n",
      " |-- customerNumber: string (nullable = true)\n",
      " |-- customerName: string (nullable = true)\n",
      " |-- contactLastName: string (nullable = true)\n",
      " |-- contactFirstName: string (nullable = true)\n",
      " |-- phone: string (nullable = true)\n",
      " |-- addressLine1: string (nullable = true)\n",
      " |-- addressLine2: string (nullable = true)\n",
      " |-- city: string (nullable = true)\n",
      " |-- state: string (nullable = true)\n",
      " |-- postalCode: string (nullable = true)\n",
      " |-- country: string (nullable = true)\n",
      " |-- salesRepEmployeeNumber: string (nullable = true)\n",
      " |-- creditLimit: string (nullable = true)\n",
      "\n"
     ]
    }
   ],
   "source": [
    "df_customers.printSchema()"
   ]
  },
  {
   "cell_type": "code",
   "execution_count": 14,
   "metadata": {},
   "outputs": [
    {
     "name": "stdout",
     "output_type": "stream",
     "text": [
      "root\n",
      " |-- creditLimit: integer (nullable = true)\n",
      " |-- customerName: string (nullable = true)\n",
      " |-- country: string (nullable = true)\n",
      "\n",
      "+-----------+--------------------+---------+\n",
      "|creditLimit|        customerName|  country|\n",
      "+-----------+--------------------+---------+\n",
      "|      21000|   Atelier graphique|   France|\n",
      "|      71800|  Signal Gift Stores|      USA|\n",
      "|     117300|Australian Collec...|Australia|\n",
      "+-----------+--------------------+---------+\n",
      "only showing top 3 rows\n",
      "\n"
     ]
    }
   ],
   "source": [
    "df_customer1 = df_customers.select(df_customers.creditLimit.cast(IntegerType()),\n",
    "                                   'customerName', 'country'\n",
    "                                   )\n",
    "df_customer1.printSchema()\n",
    "df_customer1.show(3)"
   ]
  },
  {
   "cell_type": "code",
   "execution_count": 15,
   "metadata": {},
   "outputs": [
    {
     "name": "stdout",
     "output_type": "stream",
     "text": [
      "+--------------------+-----------+-----------+----+\n",
      "|        customerName|    country|creditLimit|rank|\n",
      "+--------------------+-----------+-----------+----+\n",
      "|Danish Wholesale ...|    Denmark|      83400|   1|\n",
      "|Heintze Collectables|    Denmark|     120800|   2|\n",
      "|   Porto Imports Co.|   Portugal|          0|   1|\n",
      "|Lisboa Souveniers...|   Portugal|          0|   1|\n",
      "|     GiftsForHim.com|New Zealand|      77700|   1|\n",
      "|Extreme Desk Deco...|New Zealand|      86800|   2|\n",
      "|Down Under Souven...|New Zealand|      88000|   3|\n",
      "|   Kelly's Gift Shop|New Zealand|     110000|   4|\n",
      "|  Havel & Zbyszek Co|     Poland|          0|   1|\n",
      "|  Baane Mini Imports|     Norway|      81700|   1|\n",
      "|Québec Home Shopp...|     Canada|      48700|   1|\n",
      "|Royal Canadian Co...|     Canada|      89600|   2|\n",
      "|Canadian Gift Exc...|     Canada|      90300|   3|\n",
      "|    Schuyler Imports|Netherlands|          0|   1|\n",
      "|Double Decker Gif...|         UK|      43300|   1|\n",
      "|Stylish Desk Deco...|         UK|      77000|   2|\n",
      "|UK Collectables, ...|         UK|      92700|   3|\n",
      "|   giftsbymail.co.uk|         UK|      93900|   4|\n",
      "|      AV Stores, Co.|         UK|     136800|   5|\n",
      "|        Royale Belge|    Belgium|      23500|   1|\n",
      "+--------------------+-----------+-----------+----+\n",
      "only showing top 20 rows\n",
      "\n"
     ]
    }
   ],
   "source": [
    "#  Windowing functon rank() on Dataframes\n",
    "windowSpec = Window.partitionBy(\"country\").orderBy(\"creditLimit\")\n",
    "df_customer1.withColumn(\"rank\", rank().over(windowSpec)).select('customerName', 'country', 'creditLimit', 'rank').show()"
   ]
  },
  {
   "cell_type": "code",
   "execution_count": 16,
   "metadata": {},
   "outputs": [
    {
     "name": "stdout",
     "output_type": "stream",
     "text": [
      "+--------------------+-----------+-----------+-----+\n",
      "|        customerName|    country|creditLimit|drank|\n",
      "+--------------------+-----------+-----------+-----+\n",
      "|Danish Wholesale ...|    Denmark|      83400|    1|\n",
      "|Heintze Collectables|    Denmark|     120800|    2|\n",
      "|   Porto Imports Co.|   Portugal|          0|    1|\n",
      "|Lisboa Souveniers...|   Portugal|          0|    1|\n",
      "|     GiftsForHim.com|New Zealand|      77700|    1|\n",
      "|Extreme Desk Deco...|New Zealand|      86800|    2|\n",
      "|Down Under Souven...|New Zealand|      88000|    3|\n",
      "|   Kelly's Gift Shop|New Zealand|     110000|    4|\n",
      "|  Havel & Zbyszek Co|     Poland|          0|    1|\n",
      "|  Baane Mini Imports|     Norway|      81700|    1|\n",
      "|Québec Home Shopp...|     Canada|      48700|    1|\n",
      "|Royal Canadian Co...|     Canada|      89600|    2|\n",
      "|Canadian Gift Exc...|     Canada|      90300|    3|\n",
      "|    Schuyler Imports|Netherlands|          0|    1|\n",
      "|Double Decker Gif...|         UK|      43300|    1|\n",
      "|Stylish Desk Deco...|         UK|      77000|    2|\n",
      "|UK Collectables, ...|         UK|      92700|    3|\n",
      "|   giftsbymail.co.uk|         UK|      93900|    4|\n",
      "|      AV Stores, Co.|         UK|     136800|    5|\n",
      "|        Royale Belge|    Belgium|      23500|    1|\n",
      "+--------------------+-----------+-----------+-----+\n",
      "only showing top 20 rows\n",
      "\n"
     ]
    }
   ],
   "source": [
    "#  Windowing functon dense_rank() on Dataframes\n",
    "windowSpec = Window.partitionBy(\"country\").orderBy(\"creditLimit\")\n",
    "\n",
    "df_customer1.withColumn(\"drank\", dense_rank().over(windowSpec)).select('customerName', 'country', 'creditLimit','drank').show()"
   ]
  },
  {
   "cell_type": "code",
   "execution_count": 17,
   "metadata": {},
   "outputs": [
    {
     "name": "stdout",
     "output_type": "stream",
     "text": [
      "+---------------------------------+-----------+-----------+----+\n",
      "|customerName                     |country    |creditLimit|rank|\n",
      "+---------------------------------+-----------+-----------+----+\n",
      "|Danish Wholesale Imports         |Denmark    |83400      |1   |\n",
      "|Heintze Collectables             |Denmark    |120800     |2   |\n",
      "|Porto Imports Co.                |Portugal   |0          |1   |\n",
      "|Lisboa Souveniers, Inc           |Portugal   |0          |1   |\n",
      "|GiftsForHim.com                  |New Zealand|77700      |1   |\n",
      "|Extreme Desk Decorations, Ltd    |New Zealand|86800      |2   |\n",
      "|Down Under Souveniers, Inc       |New Zealand|88000      |3   |\n",
      "|Kelly's Gift Shop                |New Zealand|110000     |4   |\n",
      "|Havel & Zbyszek Co               |Poland     |0          |1   |\n",
      "|Baane Mini Imports               |Norway     |81700      |1   |\n",
      "|Québec Home Shopping Network     |Canada     |48700      |1   |\n",
      "|Royal Canadian Collectables, Ltd.|Canada     |89600      |2   |\n",
      "|Canadian Gift Exchange Network   |Canada     |90300      |3   |\n",
      "|Schuyler Imports                 |Netherlands|0          |1   |\n",
      "|Double Decker Gift Stores, Ltd   |UK         |43300      |1   |\n",
      "|Stylish Desk Decors, Co.         |UK         |77000      |2   |\n",
      "|UK Collectables, Ltd.            |UK         |92700      |3   |\n",
      "|giftsbymail.co.uk                |UK         |93900      |4   |\n",
      "|AV Stores, Co.                   |UK         |136800     |5   |\n",
      "|Royale Belge                     |Belgium    |23500      |1   |\n",
      "+---------------------------------+-----------+-----------+----+\n",
      "only showing top 20 rows\n",
      "\n",
      "root\n",
      " |-- customerName: string (nullable = true)\n",
      " |-- country: string (nullable = true)\n",
      " |-- creditLimit: integer (nullable = true)\n",
      " |-- rank: integer (nullable = true)\n",
      "\n"
     ]
    }
   ],
   "source": [
    "# Use Spark SQL for Windowing  \n",
    "emp_credit_sql =  \" SELECT customerName, country, CAST(creditLimit AS int), \" \\\n",
    "                  \" rank() OVER( PARTITION BY country ORDER BY CAST(creditLimit AS int) ) AS rank\" \\\n",
    "                  \" FROM mycustomers \" \n",
    "\n",
    "df_credit = sqlContext.sql(emp_credit_sql)\n",
    "df_credit.show(20,False)\n",
    "\n",
    "df_credit.printSchema()\n",
    "\n"
   ]
  },
  {
   "cell_type": "code",
   "execution_count": null,
   "metadata": {},
   "outputs": [],
   "source": []
  }
 ],
 "metadata": {
  "kernelspec": {
   "display_name": "Python 2",
   "language": "python",
   "name": "python2"
  },
  "language_info": {
   "codemirror_mode": {
    "name": "ipython",
    "version": 2
   },
   "file_extension": ".py",
   "mimetype": "text/x-python",
   "name": "python",
   "nbconvert_exporter": "python",
   "pygments_lexer": "ipython2",
   "version": "2.7.16"
  }
 },
 "nbformat": 4,
 "nbformat_minor": 2
}
