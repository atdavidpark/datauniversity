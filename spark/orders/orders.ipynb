{
 "cells": [
  {
   "cell_type": "code",
   "execution_count": 1,
   "metadata": {},
   "outputs": [],
   "source": [
    "import findspark\n",
    "import datetime\n",
    "findspark.init()\n",
    "from pyspark import SparkContext\n",
    "sc = SparkContext(\"local\", \"first app\")\n",
    "#print(sc)"
   ]
  },
  {
   "cell_type": "code",
   "execution_count": 2,
   "metadata": {},
   "outputs": [],
   "source": [
    "from pyspark.sql import SQLContext\n",
    "from pyspark.sql.functions import *\n",
    "from pyspark.sql.types import DateType, IntegerType\n",
    "import matplotlib\n",
    "import matplotlib.pyplot as plt\n",
    "import pandas as pd\n",
    "\n",
    "sqlContext = SQLContext(sc)"
   ]
  },
  {
   "cell_type": "code",
   "execution_count": 3,
   "metadata": {},
   "outputs": [],
   "source": [
    "# Read file for HDFS\n",
    "orders=sc.textFile(\"hdfs://quickstart.cloudera:8020/data/orders/orders\")\n",
    "orderdetails=sc.textFile(\"hdfs://quickstart.cloudera:8020/data/orders/orderdetails\")"
   ]
  },
  {
   "cell_type": "code",
   "execution_count": 4,
   "metadata": {},
   "outputs": [],
   "source": [
    "ordersrdd=orders.map(lambda line: (line.split('|')[0].strip('\"'), \n",
    "                                   line.split('|')[1].strip('\"'),\n",
    "                                   line.split('|')[2].strip('\"'),\n",
    "                                   line.split('|')[3].strip('\"'), \n",
    "                                   line.split('|')[4].strip('\"'),\n",
    "                                   line.split('|')[5].strip('\"'),\n",
    "                                   line.split('|')[6].strip('\"'))).collect()\n",
    "#print(ordersrdd[0][1])"
   ]
  },
  {
   "cell_type": "code",
   "execution_count": 5,
   "metadata": {},
   "outputs": [],
   "source": [
    "orderdetailsrdd=orderdetails.map(lambda line: (line.split('|')[0].strip('\"'), \n",
    "                                               line.split('|')[1].strip('\"'),\n",
    "                                               line.split('|')[2].strip('\"'), \n",
    "                                               line.split('|')[3].strip('\"'),\n",
    "                                               line.split('|')[4].strip('\"'))).collect()\n",
    "#print(orderdetailsrdd[0][0])"
   ]
  },
  {
   "cell_type": "code",
   "execution_count": 6,
   "metadata": {},
   "outputs": [
    {
     "name": "stdout",
     "output_type": "stream",
     "text": [
      "+-----------+----------+------------+-----------+-------+--------------------+--------------+\n",
      "|orderNumber| orderDate|requiredDate|shippedDate| status|            comments|customerNumber|\n",
      "+-----------+----------+------------+-----------+-------+--------------------+--------------+\n",
      "|      10100|2003-01-06|  2003-01-13| 2003-01-10|Shipped|                  \\N|           363|\n",
      "|      10101|2003-01-09|  2003-01-18| 2003-01-11|Shipped|Check on availabi...|           128|\n",
      "+-----------+----------+------------+-----------+-------+--------------------+--------------+\n",
      "only showing top 2 rows\n",
      "\n"
     ]
    }
   ],
   "source": [
    "df_orders=sqlContext.createDataFrame(ordersrdd, schema=['orderNumber', 'orderDate', \n",
    "                                                        'requiredDate', 'shippedDate', \n",
    "                                                        'status', 'comments', \n",
    "                                                        'customerNumber'])\n",
    "df_orders.show(2)"
   ]
  },
  {
   "cell_type": "code",
   "execution_count": 7,
   "metadata": {},
   "outputs": [
    {
     "name": "stdout",
     "output_type": "stream",
     "text": [
      "+-----------+-----------+---------------+---------+---------------+\n",
      "|orderNumber|productCode|quantityOrdered|priceEach|orderLineNumber|\n",
      "+-----------+-----------+---------------+---------+---------------+\n",
      "|      10100|   S18_1749|             30|   136.00|              3|\n",
      "|      10100|   S18_2248|             50|    55.09|              2|\n",
      "+-----------+-----------+---------------+---------+---------------+\n",
      "only showing top 2 rows\n",
      "\n"
     ]
    }
   ],
   "source": [
    "df_orderdetails=sqlContext.createDataFrame(orderdetailsrdd, \n",
    "                                           schema=['orderNumber', 'productCode', \n",
    "                                                   'quantityOrdered', 'priceEach', \n",
    "                                                   'orderLineNumber'])\n",
    "df_orderdetails.show(2)"
   ]
  },
  {
   "cell_type": "code",
   "execution_count": 8,
   "metadata": {},
   "outputs": [
    {
     "name": "stdout",
     "output_type": "stream",
     "text": [
      "+-----------+-----------+---------------+---------+---------------+----------+------------+-----------+-------+--------+--------------+\n",
      "|orderNumber|productCode|quantityOrdered|priceEach|orderLineNumber| orderDate|requiredDate|shippedDate| status|comments|customerNumber|\n",
      "+-----------+-----------+---------------+---------+---------------+----------+------------+-----------+-------+--------+--------------+\n",
      "|      10153|   S12_1108|             20|   201.57|             11|2003-09-28|  2003-10-05| 2003-10-03|Shipped|      \\N|           141|\n",
      "|      10153|   S12_3148|             42|   128.42|             12|2003-09-28|  2003-10-05| 2003-10-03|Shipped|      \\N|           141|\n",
      "+-----------+-----------+---------------+---------+---------------+----------+------------+-----------+-------+--------+--------------+\n",
      "only showing top 2 rows\n",
      "\n"
     ]
    }
   ],
   "source": [
    "# Join Dataframes\n",
    "df_join_orders = df_orderdetails.join(df_orders, on='orderNumber')\n",
    "df_join_orders.show(2)"
   ]
  },
  {
   "cell_type": "code",
   "execution_count": 9,
   "metadata": {},
   "outputs": [
    {
     "name": "stdout",
     "output_type": "stream",
     "text": [
      "+--------------+-----------+-----------+-----------+-------+\n",
      "|customerNumber|orderNumber|productCode|shippedDate| status|\n",
      "+--------------+-----------+-----------+-----------+-------+\n",
      "|           141|      10153|   S12_1108| 2003-10-03|Shipped|\n",
      "|           141|      10153|   S12_3148| 2003-10-03|Shipped|\n",
      "+--------------+-----------+-----------+-----------+-------+\n",
      "only showing top 2 rows\n",
      "\n"
     ]
    }
   ],
   "source": [
    "# Show a sub-set of columns\n",
    "df_select=df_join_orders.select('customerNumber', 'orderNumber','productCode', \n",
    "                                'shippedDate', 'status')\n",
    "df_select.show(2)"
   ]
  },
  {
   "cell_type": "code",
   "execution_count": 10,
   "metadata": {},
   "outputs": [
    {
     "name": "stdout",
     "output_type": "stream",
     "text": [
      "+-----------+------------------+\n",
      "|shippedDate|count(productCode)|\n",
      "+-----------+------------------+\n",
      "| 2004-02-06|                 7|\n",
      "| 2004-10-25|                11|\n",
      "| 2003-11-20|                33|\n",
      "| 2004-05-15|                14|\n",
      "| 2004-08-22|                13|\n",
      "| 2004-08-23|                28|\n",
      "| 2003-11-24|                18|\n",
      "| 2003-06-11|                 4|\n",
      "| 2003-11-25|                16|\n",
      "| 2004-01-04|                15|\n",
      "| 2004-04-10|                17|\n",
      "| 2003-11-26|                11|\n",
      "| 2003-03-08|                16|\n",
      "| 2004-08-26|                13|\n",
      "| 2003-06-14|                 9|\n",
      "| 2003-11-27|                16|\n",
      "| 2003-11-28|                10|\n",
      "| 2003-09-21|                11|\n",
      "| 2003-10-20|                12|\n",
      "| 2003-02-01|                13|\n",
      "+-----------+------------------+\n",
      "only showing top 20 rows\n",
      "\n"
     ]
    }
   ],
   "source": [
    "# Group Columns and aggregate\n",
    "df_group=df_select.groupBy('shippedDate').agg({'productCode': 'count'})\n",
    "df_group.show()\n"
   ]
  },
  {
   "cell_type": "code",
   "execution_count": 11,
   "metadata": {},
   "outputs": [
    {
     "name": "stdout",
     "output_type": "stream",
     "text": [
      "+-----------+------------------+\n",
      "|shippedDate|count(productCode)|\n",
      "+-----------+------------------+\n",
      "| 2004-08-22|                13|\n",
      "| 2004-08-23|                28|\n",
      "| 2004-08-26|                13|\n",
      "| 2004-08-31|                13|\n",
      "| 2004-08-05|                 1|\n",
      "| 2004-08-08|                14|\n",
      "| 2004-08-09|                10|\n",
      "| 2004-08-15|                 6|\n",
      "| 2004-08-19|                17|\n",
      "+-----------+------------------+\n",
      "\n"
     ]
    }
   ],
   "source": [
    "# filter results\n",
    "df_group=df_group.filter(df_group.shippedDate.like('2004-08%'))\n",
    "df_group.show()"
   ]
  },
  {
   "cell_type": "code",
   "execution_count": 12,
   "metadata": {},
   "outputs": [
    {
     "name": "stdout",
     "output_type": "stream",
     "text": [
      "root\n",
      " |-- shippedDate: string (nullable = true)\n",
      " |-- count: long (nullable = false)\n",
      "\n",
      "+-----------+-----+\n",
      "|shippedDate|count|\n",
      "+-----------+-----+\n",
      "| 2004-08-22|   13|\n",
      "| 2004-08-23|   28|\n",
      "| 2004-08-26|   13|\n",
      "| 2004-08-31|   13|\n",
      "| 2004-08-05|    1|\n",
      "| 2004-08-08|   14|\n",
      "| 2004-08-09|   10|\n",
      "| 2004-08-15|    6|\n",
      "| 2004-08-19|   17|\n",
      "+-----------+-----+\n",
      "\n"
     ]
    }
   ],
   "source": [
    "# rename columns\n",
    "df_group_renamed=df_group.select(df_group['shippedDate'], df_group['count(productCode)'].alias('count'))\n",
    "df_group_renamed.printSchema()\n",
    "df_group_renamed.show()"
   ]
  },
  {
   "cell_type": "code",
   "execution_count": 13,
   "metadata": {},
   "outputs": [],
   "source": [
    "# Convert to Pandas Dataframe\n",
    "df_group_pndas=df_group_renamed.toPandas()"
   ]
  },
  {
   "cell_type": "code",
   "execution_count": 14,
   "metadata": {},
   "outputs": [
    {
     "data": {
      "text/plain": [
       "<matplotlib.axes._subplots.AxesSubplot at 0x7fba4bd45c10>"
      ]
     },
     "execution_count": 14,
     "metadata": {},
     "output_type": "execute_result"
    },
    {
     "data": {
      "image/png": "[encoded data removed]",
      "text/plain": [
       "<Figure size 432x288 with 1 Axes>"
      ]
     },
     "metadata": {
      "needs_background": "light"
     },
     "output_type": "display_data"
    }
   ],
   "source": [
    "# Plot results\n",
    "df_group_pndas.plot(kind='barh',x='shippedDate',y='count',colormap='winter_r')"
   ]
  },
  {
   "cell_type": "code",
   "execution_count": 15,
   "metadata": {},
   "outputs": [
    {
     "name": "stdout",
     "output_type": "stream",
     "text": [
      "+--------------+-----------+-----------+-----------+----------+\n",
      "|customerNumber|orderNumber|productCode|shippedDate|    status|\n",
      "+--------------+-----------+-----------+-----------+----------+\n",
      "|           282|      10420|   S18_1749|         \\N|In Process|\n",
      "|           282|      10420|   S18_2248|         \\N|In Process|\n",
      "+--------------+-----------+-----------+-----------+----------+\n",
      "only showing top 2 rows\n",
      "\n"
     ]
    }
   ],
   "source": [
    "# Filter columns\n",
    "df_filter=df_select.filter(df_join_orders.status == 'In Process')\n",
    "df_filter.show(2)"
   ]
  },
  {
   "cell_type": "code",
   "execution_count": 16,
   "metadata": {},
   "outputs": [
    {
     "name": "stdout",
     "output_type": "stream",
     "text": [
      "+--------------+-----------+-----------+-----------+----------+----------+\n",
      "|customerNumber|orderNumber|productCode|shippedDate|    status|reportDate|\n",
      "+--------------+-----------+-----------+-----------+----------+----------+\n",
      "|           282|      10420|   S18_1749|         \\N|In Process|2020-05-25|\n",
      "|           282|      10420|   S18_2248|         \\N|In Process|2020-05-25|\n",
      "+--------------+-----------+-----------+-----------+----------+----------+\n",
      "only showing top 2 rows\n",
      "\n",
      "root\n",
      " |-- customerNumber: string (nullable = true)\n",
      " |-- orderNumber: string (nullable = true)\n",
      " |-- productCode: string (nullable = true)\n",
      " |-- shippedDate: string (nullable = true)\n",
      " |-- status: string (nullable = true)\n",
      " |-- reportDate: date (nullable = false)\n",
      "\n"
     ]
    }
   ],
   "source": [
    "# Add a new column\n",
    "df_report = df_filter.withColumn(\"reportDate\", lit(datetime.date.today()))\n",
    "df_report.show(2)\n",
    "df_report.printSchema()"
   ]
  },
  {
   "cell_type": "code",
   "execution_count": 17,
   "metadata": {},
   "outputs": [
    {
     "name": "stdout",
     "output_type": "stream",
     "text": [
      "+--------------+-----------+-----------+----------+-----------+\n",
      "|customerNumber|orderNumber|productCode|    status|shippedDate|\n",
      "+--------------+-----------+-----------+----------+-----------+\n",
      "|           282|      10420|   S18_1749|In Process|       null|\n",
      "|           282|      10420|   S18_2248|In Process|       null|\n",
      "+--------------+-----------+-----------+----------+-----------+\n",
      "only showing top 2 rows\n",
      "\n",
      "root\n",
      " |-- customerNumber: integer (nullable = true)\n",
      " |-- orderNumber: integer (nullable = true)\n",
      " |-- productCode: string (nullable = true)\n",
      " |-- status: string (nullable = true)\n",
      " |-- shippedDate: date (nullable = true)\n",
      "\n"
     ]
    }
   ],
   "source": [
    "# Cast appropriate Datatypes\n",
    "df_report = df_report.select(df_report.customerNumber.cast(IntegerType()), \n",
    "                             df_report.orderNumber.cast(IntegerType()), \n",
    "                             'productCode',  'status', \n",
    "                             from_unixtime(unix_timestamp('shippedDate', 'yyy-MM-dd')) \\\n",
    "                            .cast(DateType()).alias('shippedDate'))\n",
    "df_report.show(2)\n",
    "df_report.printSchema()"
   ]
  }
 ],
 "metadata": {
  "kernelspec": {
   "display_name": "Python 2",
   "language": "python",
   "name": "python2"
  },
  "language_info": {
   "codemirror_mode": {
    "name": "ipython",
    "version": 2
   },
   "file_extension": ".py",
   "mimetype": "text/x-python",
   "name": "python",
   "nbconvert_exporter": "python",
   "pygments_lexer": "ipython2",
   "version": "2.7.16"
  }
 },
 "nbformat": 4,
 "nbformat_minor": 2
}
