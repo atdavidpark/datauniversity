{
 "cells": [
  {
   "cell_type": "code",
   "execution_count": null,
   "metadata": {},
   "outputs": [],
   "source": [
    "import findspark"
   ]
  },
  {
   "cell_type": "code",
   "execution_count": null,
   "metadata": {},
   "outputs": [],
   "source": [
    "findspark.init()"
   ]
  },
  {
   "cell_type": "code",
   "execution_count": null,
   "metadata": {},
   "outputs": [],
   "source": [
    "# Create a local StreamingContext with two working thread and batch interval of 1 second\n",
    "from pyspark import SparkContext\n",
    "from pyspark.streaming import StreamingContext"
   ]
  },
  {
   "cell_type": "code",
   "execution_count": null,
   "metadata": {},
   "outputs": [],
   "source": [
    "spc = SparkContext(\"local[2]\", \"LocalWordCount\")\n",
    "stc = StreamingContext(spc, 5)\n",
    "stc.checkpoint(\"checkpoint\")"
   ]
  },
  {
   "cell_type": "code",
   "execution_count": null,
   "metadata": {},
   "outputs": [],
   "source": [
    "def get_hashtag(line):\n",
    "    hastag_name = line.strip()\n",
    "\n",
    "    if hastag_name == '#hadoop':\n",
    "        output = 'Hadoop'\n",
    "    elif hastag_name == '#spark':\n",
    "        output = 'Spark'\n",
    "    elif hastag_name == '#bigdata':\n",
    "        output = 'Big Data'\n",
    "    else:\n",
    "        output = 'Unknown'\n",
    "\n",
    "    return (output, 1)"
   ]
  },
  {
   "cell_type": "code",
   "execution_count": null,
   "metadata": {},
   "outputs": [],
   "source": [
    "batch_interval = 1 \n",
    "window_length = 30\n",
    "frequency = 10\n",
    "\n",
    "lines = stc.socketTextStream(\"localhost\", 9998)\n",
    "\n",
    "addFunc = lambda x, y: x + y\n",
    "invAddFunc = lambda x, y: x - y\n",
    "window_counts = lines.map(get_hashtag).reduceByKeyAndWindow(addFunc, invAddFunc,window_length, frequency)"
   ]
  },
  {
   "cell_type": "code",
   "execution_count": null,
   "metadata": {},
   "outputs": [],
   "source": [
    "window_counts.pprint()"
   ]
  },
  {
   "cell_type": "code",
   "execution_count": null,
   "metadata": {},
   "outputs": [],
   "source": [
    "stc.start()             # Start the computation\n",
    "stc.awaitTermination()  # Wait for the computation to terminate"
   ]
  }
 ],
 "metadata": {
  "kernelspec": {
   "display_name": "Python 2",
   "language": "python",
   "name": "python2"
  },
  "language_info": {
   "codemirror_mode": {
    "name": "ipython",
    "version": 2
   },
   "file_extension": ".py",
   "mimetype": "text/x-python",
   "name": "python",
   "nbconvert_exporter": "python",
   "pygments_lexer": "ipython2",
   "version": "2.7.16"
  }
 },
 "nbformat": 4,
 "nbformat_minor": 2
}
