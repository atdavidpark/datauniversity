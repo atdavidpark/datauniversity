{
 "cells": [
  {
   "cell_type": "code",
   "execution_count": 1,
   "metadata": {},
   "outputs": [],
   "source": [
    "import findspark\n",
    "findspark.init()\n",
    "from pyspark import SparkContext\n",
    "sc = SparkContext(\"local\", \"first app\")\n",
    "#print(sc)"
   ]
  },
  {
   "cell_type": "code",
   "execution_count": 2,
   "metadata": {},
   "outputs": [
    {
     "data": {
      "text/plain": [
       "[[u'5', u'skirts', u'2019-10-07', u'$85.03', u'2'],\n",
       " [u'1', u'skirts', u'2020-06-18', u'$79.17', u'9']]"
      ]
     },
     "execution_count": 2,
     "metadata": {},
     "output_type": "execute_result"
    }
   ],
   "source": [
    "# Read files using a | delimiter\n",
    "mydata=sc.textFile(\"hdfs://quickstart.cloudera:8020/data/spark/products/products.csv\").map(lambda x: x.split('|'))\n",
    "mydata.take(2)"
   ]
  },
  {
   "cell_type": "code",
   "execution_count": 3,
   "metadata": {},
   "outputs": [
    {
     "name": "stdout",
     "output_type": "stream",
     "text": [
      "Number of partitions: 1\n",
      "Partitioner: None\n",
      "Partition Sizes: [100]\n",
      "Partitions structure: [[[u'5', u'skirts', u'2019-10-07', u'$85.03', u'2'], [u'1', u'skirts', u'2020-06-18', u'$79.17', u'9'], [u'3', u'pants', u'2020-03-18', u'$33.63', u'4'], [u'4', u'ties', u'2020-01-03', u'$20.47', u'9'], [u'3', u'pants', u'2020-10-06', u'$7.36', u'1'], [u'5', u'ties', u'2020-10-22', u'$26.19', u'2'], [u'2', u'shirts', u'2019-11-06', u'$63.90', u'4'], [u'3', u'shirts', u'2020-01-28', u'$11.93', u'4'], [u'4', u'skirts', u'2021-03-18', u'$15.81', u'2'], [u'5', u'skirts', u'2020-01-01', u'$46.78', u'4'], [u'4', u'shirts', u'2019-07-20', u'$90.89', u'9'], [u'4', u'pants', u'2019-06-28', u'$41.24', u'6'], [u'3', u'pants', u'2019-11-11', u'$30.10', u'8'], [u'3', u'ties', u'2021-02-23', u'$9.55', u'6'], [u'2', u'shirts', u'2021-05-04', u'$3.35', u'8'], [u'3', u'shirts', u'2020-07-27', u'$88.63', u'5'], [u'5', u'pants', u'2019-10-28', u'$39.57', u'10'], [u'5', u'ties', u'2020-10-30', u'$83.10', u'1'], [u'2', u'ties', u'2019-08-12', u'$21.89', u'1'], [u'5', u'skirts', u'2020-06-10', u'$17.13', u'1'], [u'3', u'pants', u'2019-10-30', u'$30.43', u'1'], [u'2', u'pants', u'2019-09-01', u'$63.32', u'1'], [u'3', u'pants', u'2020-10-25', u'$32.76', u'4'], [u'2', u'ties', u'2021-01-19', u'$43.72', u'1'], [u'4', u'ties', u'2020-05-13', u'$32.99', u'5'], [u'3', u'ties', u'2020-09-16', u'$45.36', u'4'], [u'1', u'ties', u'2019-07-04', u'$71.17', u'6'], [u'5', u'shirts', u'2020-12-26', u'$10.43', u'7'], [u'4', u'skirts', u'2020-03-05', u'$47.76', u'8'], [u'2', u'ties', u'2020-07-15', u'$99.79', u'5'], [u'2', u'skirts', u'2021-03-03', u'$29.35', u'5'], [u'2', u'pants', u'2020-01-12', u'$74.31', u'2'], [u'4', u'skirts', u'2019-06-24', u'$85.10', u'10'], [u'1', u'ties', u'2019-11-16', u'$5.27', u'7'], [u'4', u'shirts', u'2020-04-09', u'$36.19', u'6'], [u'1', u'skirts', u'2020-11-03', u'$57.93', u'9'], [u'4', u'ties', u'2021-04-12', u'$34.33', u'5'], [u'2', u'pants', u'2019-09-23', u'$48.18', u'2'], [u'2', u'skirts', u'2020-02-01', u'$9.86', u'4'], [u'2', u'shirts', u'2020-02-06', u'$79.96', u'5'], [u'4', u'shirts', u'2019-10-24', u'$8.20', u'8'], [u'3', u'pants', u'2019-11-19', u'$11.66', u'10'], [u'1', u'pants', u'2020-05-14', u'$24.86', u'3'], [u'4', u'skirts', u'2020-08-02', u'$69.63', u'6'], [u'3', u'skirts', u'2019-08-20', u'$6.65', u'1'], [u'3', u'ties', u'2020-05-19', u'$35.41', u'3'], [u'4', u'ties', u'2019-10-12', u'$77.38', u'4'], [u'2', u'pants', u'2019-08-28', u'$8.68', u'10'], [u'2', u'ties', u'2020-03-30', u'$17.38', u'10'], [u'3', u'shirts', u'2020-11-16', u'$16.02', u'5'], [u'4', u'skirts', u'2021-01-30', u'$72.03', u'9'], [u'4', u'shirts', u'2019-06-10', u'$37.57', u'2'], [u'4', u'ties', u'2019-12-15', u'$68.24', u'4'], [u'2', u'skirts', u'2020-08-01', u'$98.54', u'3'], [u'2', u'pants', u'2021-05-15', u'$90.04', u'3'], [u'4', u'ties', u'2020-08-23', u'$48.02', u'8'], [u'1', u'skirts', u'2019-07-09', u'$43.62', u'4'], [u'2', u'ties', u'2020-11-14', u'$71.92', u'6'], [u'3', u'skirts', u'2020-07-15', u'$2.31', u'4'], [u'3', u'shirts', u'2020-09-24', u'$52.79', u'4'], [u'1', u'shirts', u'2020-12-29', u'$72.69', u'2'], [u'1', u'skirts', u'2020-12-10', u'$72.32', u'10'], [u'4', u'pants', u'2021-05-19', u'$87.27', u'10'], [u'2', u'ties', u'2021-02-24', u'$63.87', u'7'], [u'1', u'pants', u'2020-02-01', u'$90.91', u'4'], [u'5', u'ties', u'2020-09-04', u'$65.36', u'7'], [u'2', u'pants', u'2020-09-25', u'$93.68', u'3'], [u'2', u'shirts', u'2021-02-21', u'$68.51', u'1'], [u'2', u'shirts', u'2019-08-11', u'$45.42', u'7'], [u'1', u'skirts', u'2019-12-24', u'$87.86', u'5'], [u'3', u'ties', u'2019-11-30', u'$20.02', u'7'], [u'1', u'skirts', u'2019-11-09', u'$45.72', u'10'], [u'2', u'skirts', u'2020-10-06', u'$34.67', u'1'], [u'1', u'shirts', u'2020-10-26', u'$42.69', u'8'], [u'1', u'shirts', u'2020-10-11', u'$65.93', u'6'], [u'2', u'shirts', u'2019-11-06', u'$59.07', u'4'], [u'2', u'pants', u'2021-02-13', u'$58.73', u'10'], [u'4', u'pants', u'2021-03-17', u'$85.46', u'2'], [u'3', u'skirts', u'2019-09-09', u'$13.38', u'6'], [u'1', u'shirts', u'2020-08-06', u'$47.04', u'4'], [u'4', u'pants', u'2020-01-29', u'$36.03', u'5'], [u'2', u'pants', u'2020-04-21', u'$6.48', u'10'], [u'2', u'ties', u'2020-07-24', u'$53.09', u'8'], [u'1', u'skirts', u'2019-07-14', u'$14.74', u'1'], [u'2', u'pants', u'2021-01-03', u'$45.70', u'8'], [u'4', u'pants', u'2020-11-17', u'$40.23', u'5'], [u'3', u'skirts', u'2021-02-22', u'$0.78', u'7'], [u'2', u'pants', u'2019-07-12', u'$17.01', u'2'], [u'2', u'ties', u'2020-11-01', u'$95.68', u'9'], [u'5', u'shirts', u'2019-10-08', u'$95.85', u'8'], [u'4', u'ties', u'2019-11-01', u'$93.68', u'6'], [u'1', u'skirts', u'2020-12-08', u'$6.29', u'6'], [u'4', u'pants', u'2020-07-27', u'$58.39', u'10'], [u'1', u'shirts', u'2019-11-30', u'$62.08', u'7'], [u'5', u'ties', u'2021-04-17', u'$81.76', u'6'], [u'3', u'ties', u'2019-08-07', u'$28.50', u'3'], [u'4', u'pants', u'2020-08-09', u'$33.20', u'6'], [u'3', u'shirts', u'2021-05-09', u'$45.97', u'10'], [u'4', u'ties', u'2021-02-17', u'$83.81', u'4'], [u'5', u'skirts', u'2020-02-14', u'$71.10', u'9']]]\n"
     ]
    }
   ],
   "source": [
    "print(\"Number of partitions: {}\".format(mydata.getNumPartitions()))\n",
    "print(\"Partitioner: {}\".format(mydata.partitioner))\n",
    "print(\"Partition Sizes: {}\".format(mydata.glom().map(len).collect()))\n",
    "print(\"Partitions structure: {}\".format(mydata.glom().collect()))"
   ]
  },
  {
   "cell_type": "code",
   "execution_count": 4,
   "metadata": {},
   "outputs": [
    {
     "data": {
      "text/plain": [
       "[(u'5', [u'skirts', u'2019-10-07', u'$85.03', u'2']),\n",
       " (u'1', [u'skirts', u'2020-06-18', u'$79.17', u'9'])]"
      ]
     },
     "execution_count": 4,
     "metadata": {},
     "output_type": "execute_result"
    }
   ],
   "source": [
    "# Create a new RDD with Key-value pairs\n",
    "pairRDD = mydata.map(lambda x :(x[0],x[1:]))\n",
    "pairRDD.take(2)"
   ]
  },
  {
   "cell_type": "code",
   "execution_count": 5,
   "metadata": {},
   "outputs": [
    {
     "name": "stdout",
     "output_type": "stream",
     "text": [
      "Number of partitions: 1\n",
      "Partitioner: None\n",
      "Partition Sizes: [100]\n",
      "Partitions structure: [[(u'5', [u'skirts', u'2019-10-07', u'$85.03', u'2']), (u'1', [u'skirts', u'2020-06-18', u'$79.17', u'9']), (u'3', [u'pants', u'2020-03-18', u'$33.63', u'4']), (u'4', [u'ties', u'2020-01-03', u'$20.47', u'9']), (u'3', [u'pants', u'2020-10-06', u'$7.36', u'1']), (u'5', [u'ties', u'2020-10-22', u'$26.19', u'2']), (u'2', [u'shirts', u'2019-11-06', u'$63.90', u'4']), (u'3', [u'shirts', u'2020-01-28', u'$11.93', u'4']), (u'4', [u'skirts', u'2021-03-18', u'$15.81', u'2']), (u'5', [u'skirts', u'2020-01-01', u'$46.78', u'4']), (u'4', [u'shirts', u'2019-07-20', u'$90.89', u'9']), (u'4', [u'pants', u'2019-06-28', u'$41.24', u'6']), (u'3', [u'pants', u'2019-11-11', u'$30.10', u'8']), (u'3', [u'ties', u'2021-02-23', u'$9.55', u'6']), (u'2', [u'shirts', u'2021-05-04', u'$3.35', u'8']), (u'3', [u'shirts', u'2020-07-27', u'$88.63', u'5']), (u'5', [u'pants', u'2019-10-28', u'$39.57', u'10']), (u'5', [u'ties', u'2020-10-30', u'$83.10', u'1']), (u'2', [u'ties', u'2019-08-12', u'$21.89', u'1']), (u'5', [u'skirts', u'2020-06-10', u'$17.13', u'1']), (u'3', [u'pants', u'2019-10-30', u'$30.43', u'1']), (u'2', [u'pants', u'2019-09-01', u'$63.32', u'1']), (u'3', [u'pants', u'2020-10-25', u'$32.76', u'4']), (u'2', [u'ties', u'2021-01-19', u'$43.72', u'1']), (u'4', [u'ties', u'2020-05-13', u'$32.99', u'5']), (u'3', [u'ties', u'2020-09-16', u'$45.36', u'4']), (u'1', [u'ties', u'2019-07-04', u'$71.17', u'6']), (u'5', [u'shirts', u'2020-12-26', u'$10.43', u'7']), (u'4', [u'skirts', u'2020-03-05', u'$47.76', u'8']), (u'2', [u'ties', u'2020-07-15', u'$99.79', u'5']), (u'2', [u'skirts', u'2021-03-03', u'$29.35', u'5']), (u'2', [u'pants', u'2020-01-12', u'$74.31', u'2']), (u'4', [u'skirts', u'2019-06-24', u'$85.10', u'10']), (u'1', [u'ties', u'2019-11-16', u'$5.27', u'7']), (u'4', [u'shirts', u'2020-04-09', u'$36.19', u'6']), (u'1', [u'skirts', u'2020-11-03', u'$57.93', u'9']), (u'4', [u'ties', u'2021-04-12', u'$34.33', u'5']), (u'2', [u'pants', u'2019-09-23', u'$48.18', u'2']), (u'2', [u'skirts', u'2020-02-01', u'$9.86', u'4']), (u'2', [u'shirts', u'2020-02-06', u'$79.96', u'5']), (u'4', [u'shirts', u'2019-10-24', u'$8.20', u'8']), (u'3', [u'pants', u'2019-11-19', u'$11.66', u'10']), (u'1', [u'pants', u'2020-05-14', u'$24.86', u'3']), (u'4', [u'skirts', u'2020-08-02', u'$69.63', u'6']), (u'3', [u'skirts', u'2019-08-20', u'$6.65', u'1']), (u'3', [u'ties', u'2020-05-19', u'$35.41', u'3']), (u'4', [u'ties', u'2019-10-12', u'$77.38', u'4']), (u'2', [u'pants', u'2019-08-28', u'$8.68', u'10']), (u'2', [u'ties', u'2020-03-30', u'$17.38', u'10']), (u'3', [u'shirts', u'2020-11-16', u'$16.02', u'5']), (u'4', [u'skirts', u'2021-01-30', u'$72.03', u'9']), (u'4', [u'shirts', u'2019-06-10', u'$37.57', u'2']), (u'4', [u'ties', u'2019-12-15', u'$68.24', u'4']), (u'2', [u'skirts', u'2020-08-01', u'$98.54', u'3']), (u'2', [u'pants', u'2021-05-15', u'$90.04', u'3']), (u'4', [u'ties', u'2020-08-23', u'$48.02', u'8']), (u'1', [u'skirts', u'2019-07-09', u'$43.62', u'4']), (u'2', [u'ties', u'2020-11-14', u'$71.92', u'6']), (u'3', [u'skirts', u'2020-07-15', u'$2.31', u'4']), (u'3', [u'shirts', u'2020-09-24', u'$52.79', u'4']), (u'1', [u'shirts', u'2020-12-29', u'$72.69', u'2']), (u'1', [u'skirts', u'2020-12-10', u'$72.32', u'10']), (u'4', [u'pants', u'2021-05-19', u'$87.27', u'10']), (u'2', [u'ties', u'2021-02-24', u'$63.87', u'7']), (u'1', [u'pants', u'2020-02-01', u'$90.91', u'4']), (u'5', [u'ties', u'2020-09-04', u'$65.36', u'7']), (u'2', [u'pants', u'2020-09-25', u'$93.68', u'3']), (u'2', [u'shirts', u'2021-02-21', u'$68.51', u'1']), (u'2', [u'shirts', u'2019-08-11', u'$45.42', u'7']), (u'1', [u'skirts', u'2019-12-24', u'$87.86', u'5']), (u'3', [u'ties', u'2019-11-30', u'$20.02', u'7']), (u'1', [u'skirts', u'2019-11-09', u'$45.72', u'10']), (u'2', [u'skirts', u'2020-10-06', u'$34.67', u'1']), (u'1', [u'shirts', u'2020-10-26', u'$42.69', u'8']), (u'1', [u'shirts', u'2020-10-11', u'$65.93', u'6']), (u'2', [u'shirts', u'2019-11-06', u'$59.07', u'4']), (u'2', [u'pants', u'2021-02-13', u'$58.73', u'10']), (u'4', [u'pants', u'2021-03-17', u'$85.46', u'2']), (u'3', [u'skirts', u'2019-09-09', u'$13.38', u'6']), (u'1', [u'shirts', u'2020-08-06', u'$47.04', u'4']), (u'4', [u'pants', u'2020-01-29', u'$36.03', u'5']), (u'2', [u'pants', u'2020-04-21', u'$6.48', u'10']), (u'2', [u'ties', u'2020-07-24', u'$53.09', u'8']), (u'1', [u'skirts', u'2019-07-14', u'$14.74', u'1']), (u'2', [u'pants', u'2021-01-03', u'$45.70', u'8']), (u'4', [u'pants', u'2020-11-17', u'$40.23', u'5']), (u'3', [u'skirts', u'2021-02-22', u'$0.78', u'7']), (u'2', [u'pants', u'2019-07-12', u'$17.01', u'2']), (u'2', [u'ties', u'2020-11-01', u'$95.68', u'9']), (u'5', [u'shirts', u'2019-10-08', u'$95.85', u'8']), (u'4', [u'ties', u'2019-11-01', u'$93.68', u'6']), (u'1', [u'skirts', u'2020-12-08', u'$6.29', u'6']), (u'4', [u'pants', u'2020-07-27', u'$58.39', u'10']), (u'1', [u'shirts', u'2019-11-30', u'$62.08', u'7']), (u'5', [u'ties', u'2021-04-17', u'$81.76', u'6']), (u'3', [u'ties', u'2019-08-07', u'$28.50', u'3']), (u'4', [u'pants', u'2020-08-09', u'$33.20', u'6']), (u'3', [u'shirts', u'2021-05-09', u'$45.97', u'10']), (u'4', [u'ties', u'2021-02-17', u'$83.81', u'4']), (u'5', [u'skirts', u'2020-02-14', u'$71.10', u'9'])]]\n"
     ]
    }
   ],
   "source": [
    "# check partition lengths\n",
    "print(\"Number of partitions: {}\".format(pairRDD.getNumPartitions()))\n",
    "print(\"Partitioner: {}\".format(pairRDD.partitioner))\n",
    "print(\"Partition Sizes: {}\".format(pairRDD.glom().map(len).collect()))\n",
    "print(\"Partitions structure: {}\".format(pairRDD.glom().collect()))"
   ]
  },
  {
   "cell_type": "code",
   "execution_count": 6,
   "metadata": {},
   "outputs": [
    {
     "data": {
      "text/plain": [
       "[(u'5', [u'skirts', u'2019-10-07', u'$85.03', u'2']),\n",
       " (u'5', [u'ties', u'2020-10-22', u'$26.19', u'2'])]"
      ]
     },
     "execution_count": 6,
     "metadata": {},
     "output_type": "execute_result"
    }
   ],
   "source": [
    "# Create a new RDD partition by key\n",
    "newpairRDD = pairRDD.partitionBy(5, lambda k: int(k[0]))\n",
    "newpairRDD.take(2)"
   ]
  },
  {
   "cell_type": "code",
   "execution_count": 7,
   "metadata": {},
   "outputs": [
    {
     "name": "stdout",
     "output_type": "stream",
     "text": [
      "Number of partitions: 5\n",
      "Partitioner: <pyspark.rdd.Partitioner object at 0x7fd49242cc10>\n",
      "Partition Sizes: [11, 17, 28, 20, 24]\n",
      "Partitions structure: [[(u'5', [u'skirts', u'2019-10-07', u'$85.03', u'2']), (u'5', [u'ties', u'2020-10-22', u'$26.19', u'2']), (u'5', [u'skirts', u'2020-01-01', u'$46.78', u'4']), (u'5', [u'pants', u'2019-10-28', u'$39.57', u'10']), (u'5', [u'ties', u'2020-10-30', u'$83.10', u'1']), (u'5', [u'skirts', u'2020-06-10', u'$17.13', u'1']), (u'5', [u'shirts', u'2020-12-26', u'$10.43', u'7']), (u'5', [u'ties', u'2020-09-04', u'$65.36', u'7']), (u'5', [u'shirts', u'2019-10-08', u'$95.85', u'8']), (u'5', [u'ties', u'2021-04-17', u'$81.76', u'6']), (u'5', [u'skirts', u'2020-02-14', u'$71.10', u'9'])], [(u'1', [u'skirts', u'2020-06-18', u'$79.17', u'9']), (u'1', [u'ties', u'2019-07-04', u'$71.17', u'6']), (u'1', [u'ties', u'2019-11-16', u'$5.27', u'7']), (u'1', [u'skirts', u'2020-11-03', u'$57.93', u'9']), (u'1', [u'pants', u'2020-05-14', u'$24.86', u'3']), (u'1', [u'skirts', u'2019-07-09', u'$43.62', u'4']), (u'1', [u'shirts', u'2020-12-29', u'$72.69', u'2']), (u'1', [u'skirts', u'2020-12-10', u'$72.32', u'10']), (u'1', [u'pants', u'2020-02-01', u'$90.91', u'4']), (u'1', [u'skirts', u'2019-12-24', u'$87.86', u'5']), (u'1', [u'skirts', u'2019-11-09', u'$45.72', u'10']), (u'1', [u'shirts', u'2020-10-26', u'$42.69', u'8']), (u'1', [u'shirts', u'2020-10-11', u'$65.93', u'6']), (u'1', [u'shirts', u'2020-08-06', u'$47.04', u'4']), (u'1', [u'skirts', u'2019-07-14', u'$14.74', u'1']), (u'1', [u'skirts', u'2020-12-08', u'$6.29', u'6']), (u'1', [u'shirts', u'2019-11-30', u'$62.08', u'7'])], [(u'2', [u'shirts', u'2019-11-06', u'$63.90', u'4']), (u'2', [u'shirts', u'2021-05-04', u'$3.35', u'8']), (u'2', [u'ties', u'2019-08-12', u'$21.89', u'1']), (u'2', [u'pants', u'2019-09-01', u'$63.32', u'1']), (u'2', [u'ties', u'2021-01-19', u'$43.72', u'1']), (u'2', [u'ties', u'2020-07-15', u'$99.79', u'5']), (u'2', [u'skirts', u'2021-03-03', u'$29.35', u'5']), (u'2', [u'pants', u'2020-01-12', u'$74.31', u'2']), (u'2', [u'pants', u'2019-09-23', u'$48.18', u'2']), (u'2', [u'skirts', u'2020-02-01', u'$9.86', u'4']), (u'2', [u'shirts', u'2020-02-06', u'$79.96', u'5']), (u'2', [u'pants', u'2019-08-28', u'$8.68', u'10']), (u'2', [u'ties', u'2020-03-30', u'$17.38', u'10']), (u'2', [u'skirts', u'2020-08-01', u'$98.54', u'3']), (u'2', [u'pants', u'2021-05-15', u'$90.04', u'3']), (u'2', [u'ties', u'2020-11-14', u'$71.92', u'6']), (u'2', [u'ties', u'2021-02-24', u'$63.87', u'7']), (u'2', [u'pants', u'2020-09-25', u'$93.68', u'3']), (u'2', [u'shirts', u'2021-02-21', u'$68.51', u'1']), (u'2', [u'shirts', u'2019-08-11', u'$45.42', u'7']), (u'2', [u'skirts', u'2020-10-06', u'$34.67', u'1']), (u'2', [u'shirts', u'2019-11-06', u'$59.07', u'4']), (u'2', [u'pants', u'2021-02-13', u'$58.73', u'10']), (u'2', [u'pants', u'2020-04-21', u'$6.48', u'10']), (u'2', [u'ties', u'2020-07-24', u'$53.09', u'8']), (u'2', [u'pants', u'2021-01-03', u'$45.70', u'8']), (u'2', [u'pants', u'2019-07-12', u'$17.01', u'2']), (u'2', [u'ties', u'2020-11-01', u'$95.68', u'9'])], [(u'3', [u'pants', u'2020-03-18', u'$33.63', u'4']), (u'3', [u'pants', u'2020-10-06', u'$7.36', u'1']), (u'3', [u'shirts', u'2020-01-28', u'$11.93', u'4']), (u'3', [u'pants', u'2019-11-11', u'$30.10', u'8']), (u'3', [u'ties', u'2021-02-23', u'$9.55', u'6']), (u'3', [u'shirts', u'2020-07-27', u'$88.63', u'5']), (u'3', [u'pants', u'2019-10-30', u'$30.43', u'1']), (u'3', [u'pants', u'2020-10-25', u'$32.76', u'4']), (u'3', [u'ties', u'2020-09-16', u'$45.36', u'4']), (u'3', [u'pants', u'2019-11-19', u'$11.66', u'10']), (u'3', [u'skirts', u'2019-08-20', u'$6.65', u'1']), (u'3', [u'ties', u'2020-05-19', u'$35.41', u'3']), (u'3', [u'shirts', u'2020-11-16', u'$16.02', u'5']), (u'3', [u'skirts', u'2020-07-15', u'$2.31', u'4']), (u'3', [u'shirts', u'2020-09-24', u'$52.79', u'4']), (u'3', [u'ties', u'2019-11-30', u'$20.02', u'7']), (u'3', [u'skirts', u'2019-09-09', u'$13.38', u'6']), (u'3', [u'skirts', u'2021-02-22', u'$0.78', u'7']), (u'3', [u'ties', u'2019-08-07', u'$28.50', u'3']), (u'3', [u'shirts', u'2021-05-09', u'$45.97', u'10'])], [(u'4', [u'ties', u'2020-01-03', u'$20.47', u'9']), (u'4', [u'skirts', u'2021-03-18', u'$15.81', u'2']), (u'4', [u'shirts', u'2019-07-20', u'$90.89', u'9']), (u'4', [u'pants', u'2019-06-28', u'$41.24', u'6']), (u'4', [u'ties', u'2020-05-13', u'$32.99', u'5']), (u'4', [u'skirts', u'2020-03-05', u'$47.76', u'8']), (u'4', [u'skirts', u'2019-06-24', u'$85.10', u'10']), (u'4', [u'shirts', u'2020-04-09', u'$36.19', u'6']), (u'4', [u'ties', u'2021-04-12', u'$34.33', u'5']), (u'4', [u'shirts', u'2019-10-24', u'$8.20', u'8']), (u'4', [u'skirts', u'2020-08-02', u'$69.63', u'6']), (u'4', [u'ties', u'2019-10-12', u'$77.38', u'4']), (u'4', [u'skirts', u'2021-01-30', u'$72.03', u'9']), (u'4', [u'shirts', u'2019-06-10', u'$37.57', u'2']), (u'4', [u'ties', u'2019-12-15', u'$68.24', u'4']), (u'4', [u'ties', u'2020-08-23', u'$48.02', u'8']), (u'4', [u'pants', u'2021-05-19', u'$87.27', u'10']), (u'4', [u'pants', u'2021-03-17', u'$85.46', u'2']), (u'4', [u'pants', u'2020-01-29', u'$36.03', u'5']), (u'4', [u'pants', u'2020-11-17', u'$40.23', u'5']), (u'4', [u'ties', u'2019-11-01', u'$93.68', u'6']), (u'4', [u'pants', u'2020-07-27', u'$58.39', u'10']), (u'4', [u'pants', u'2020-08-09', u'$33.20', u'6']), (u'4', [u'ties', u'2021-02-17', u'$83.81', u'4'])]]\n"
     ]
    }
   ],
   "source": [
    "# check partition lengths. By default hash partitioner is used\n",
    "print(\"Number of partitions: {}\".format(newpairRDD.getNumPartitions()))\n",
    "print(\"Partitioner: {}\".format(newpairRDD.partitioner))\n",
    "print(\"Partition Sizes: {}\".format(newpairRDD.glom().map(len).collect()))\n",
    "print(\"Partitions structure: {}\".format(newpairRDD.glom().collect()))"
   ]
  },
  {
   "cell_type": "code",
   "execution_count": 8,
   "metadata": {},
   "outputs": [],
   "source": [
    "# Define a function for custom partitoner\n",
    "def product_partitioner(product):\n",
    "    return hash(product)"
   ]
  },
  {
   "cell_type": "code",
   "execution_count": 9,
   "metadata": {},
   "outputs": [
    {
     "data": {
      "text/plain": [
       "[(u'shirts', [u'2019-11-06', u'$63.90', u'4']),\n",
       " (u'shirts', [u'2020-01-28', u'$11.93', u'4'])]"
      ]
     },
     "execution_count": 9,
     "metadata": {},
     "output_type": "execute_result"
    }
   ],
   "source": [
    "# Create a new RDD with custom partitioner\n",
    "custompairRDD = pairRDD.map(lambda x :(x[1][0],x[1][1:])).partitionBy(3, product_partitioner)\n",
    "custompairRDD.take(2)"
   ]
  },
  {
   "cell_type": "code",
   "execution_count": 10,
   "metadata": {},
   "outputs": [
    {
     "name": "stdout",
     "output_type": "stream",
     "text": [
      "Number of partitions: 3\n",
      "Partitioner: <pyspark.rdd.Partitioner object at 0x7fd4917e2210>\n",
      "Partition Sizes: [22, 26, 52]\n",
      "Partitions structure: [[(u'shirts', [u'2019-11-06', u'$63.90', u'4']), (u'shirts', [u'2020-01-28', u'$11.93', u'4']), (u'shirts', [u'2019-07-20', u'$90.89', u'9']), (u'shirts', [u'2021-05-04', u'$3.35', u'8']), (u'shirts', [u'2020-07-27', u'$88.63', u'5']), (u'shirts', [u'2020-12-26', u'$10.43', u'7']), (u'shirts', [u'2020-04-09', u'$36.19', u'6']), (u'shirts', [u'2020-02-06', u'$79.96', u'5']), (u'shirts', [u'2019-10-24', u'$8.20', u'8']), (u'shirts', [u'2020-11-16', u'$16.02', u'5']), (u'shirts', [u'2019-06-10', u'$37.57', u'2']), (u'shirts', [u'2020-09-24', u'$52.79', u'4']), (u'shirts', [u'2020-12-29', u'$72.69', u'2']), (u'shirts', [u'2021-02-21', u'$68.51', u'1']), (u'shirts', [u'2019-08-11', u'$45.42', u'7']), (u'shirts', [u'2020-10-26', u'$42.69', u'8']), (u'shirts', [u'2020-10-11', u'$65.93', u'6']), (u'shirts', [u'2019-11-06', u'$59.07', u'4']), (u'shirts', [u'2020-08-06', u'$47.04', u'4']), (u'shirts', [u'2019-10-08', u'$95.85', u'8']), (u'shirts', [u'2019-11-30', u'$62.08', u'7']), (u'shirts', [u'2021-05-09', u'$45.97', u'10'])], [(u'pants', [u'2020-03-18', u'$33.63', u'4']), (u'pants', [u'2020-10-06', u'$7.36', u'1']), (u'pants', [u'2019-06-28', u'$41.24', u'6']), (u'pants', [u'2019-11-11', u'$30.10', u'8']), (u'pants', [u'2019-10-28', u'$39.57', u'10']), (u'pants', [u'2019-10-30', u'$30.43', u'1']), (u'pants', [u'2019-09-01', u'$63.32', u'1']), (u'pants', [u'2020-10-25', u'$32.76', u'4']), (u'pants', [u'2020-01-12', u'$74.31', u'2']), (u'pants', [u'2019-09-23', u'$48.18', u'2']), (u'pants', [u'2019-11-19', u'$11.66', u'10']), (u'pants', [u'2020-05-14', u'$24.86', u'3']), (u'pants', [u'2019-08-28', u'$8.68', u'10']), (u'pants', [u'2021-05-15', u'$90.04', u'3']), (u'pants', [u'2021-05-19', u'$87.27', u'10']), (u'pants', [u'2020-02-01', u'$90.91', u'4']), (u'pants', [u'2020-09-25', u'$93.68', u'3']), (u'pants', [u'2021-02-13', u'$58.73', u'10']), (u'pants', [u'2021-03-17', u'$85.46', u'2']), (u'pants', [u'2020-01-29', u'$36.03', u'5']), (u'pants', [u'2020-04-21', u'$6.48', u'10']), (u'pants', [u'2021-01-03', u'$45.70', u'8']), (u'pants', [u'2020-11-17', u'$40.23', u'5']), (u'pants', [u'2019-07-12', u'$17.01', u'2']), (u'pants', [u'2020-07-27', u'$58.39', u'10']), (u'pants', [u'2020-08-09', u'$33.20', u'6'])], [(u'skirts', [u'2019-10-07', u'$85.03', u'2']), (u'skirts', [u'2020-06-18', u'$79.17', u'9']), (u'ties', [u'2020-01-03', u'$20.47', u'9']), (u'ties', [u'2020-10-22', u'$26.19', u'2']), (u'skirts', [u'2021-03-18', u'$15.81', u'2']), (u'skirts', [u'2020-01-01', u'$46.78', u'4']), (u'ties', [u'2021-02-23', u'$9.55', u'6']), (u'ties', [u'2020-10-30', u'$83.10', u'1']), (u'ties', [u'2019-08-12', u'$21.89', u'1']), (u'skirts', [u'2020-06-10', u'$17.13', u'1']), (u'ties', [u'2021-01-19', u'$43.72', u'1']), (u'ties', [u'2020-05-13', u'$32.99', u'5']), (u'ties', [u'2020-09-16', u'$45.36', u'4']), (u'ties', [u'2019-07-04', u'$71.17', u'6']), (u'skirts', [u'2020-03-05', u'$47.76', u'8']), (u'ties', [u'2020-07-15', u'$99.79', u'5']), (u'skirts', [u'2021-03-03', u'$29.35', u'5']), (u'skirts', [u'2019-06-24', u'$85.10', u'10']), (u'ties', [u'2019-11-16', u'$5.27', u'7']), (u'skirts', [u'2020-11-03', u'$57.93', u'9']), (u'ties', [u'2021-04-12', u'$34.33', u'5']), (u'skirts', [u'2020-02-01', u'$9.86', u'4']), (u'skirts', [u'2020-08-02', u'$69.63', u'6']), (u'skirts', [u'2019-08-20', u'$6.65', u'1']), (u'ties', [u'2020-05-19', u'$35.41', u'3']), (u'ties', [u'2019-10-12', u'$77.38', u'4']), (u'ties', [u'2020-03-30', u'$17.38', u'10']), (u'skirts', [u'2021-01-30', u'$72.03', u'9']), (u'ties', [u'2019-12-15', u'$68.24', u'4']), (u'skirts', [u'2020-08-01', u'$98.54', u'3']), (u'ties', [u'2020-08-23', u'$48.02', u'8']), (u'skirts', [u'2019-07-09', u'$43.62', u'4']), (u'ties', [u'2020-11-14', u'$71.92', u'6']), (u'skirts', [u'2020-07-15', u'$2.31', u'4']), (u'skirts', [u'2020-12-10', u'$72.32', u'10']), (u'ties', [u'2021-02-24', u'$63.87', u'7']), (u'ties', [u'2020-09-04', u'$65.36', u'7']), (u'skirts', [u'2019-12-24', u'$87.86', u'5']), (u'ties', [u'2019-11-30', u'$20.02', u'7']), (u'skirts', [u'2019-11-09', u'$45.72', u'10']), (u'skirts', [u'2020-10-06', u'$34.67', u'1']), (u'skirts', [u'2019-09-09', u'$13.38', u'6']), (u'ties', [u'2020-07-24', u'$53.09', u'8']), (u'skirts', [u'2019-07-14', u'$14.74', u'1']), (u'skirts', [u'2021-02-22', u'$0.78', u'7']), (u'ties', [u'2020-11-01', u'$95.68', u'9']), (u'ties', [u'2019-11-01', u'$93.68', u'6']), (u'skirts', [u'2020-12-08', u'$6.29', u'6']), (u'ties', [u'2021-04-17', u'$81.76', u'6']), (u'ties', [u'2019-08-07', u'$28.50', u'3']), (u'ties', [u'2021-02-17', u'$83.81', u'4']), (u'skirts', [u'2020-02-14', u'$71.10', u'9'])]]\n"
     ]
    }
   ],
   "source": [
    "# check partition lengths. \n",
    "print(\"Number of partitions: {}\".format(custompairRDD.getNumPartitions()))\n",
    "print(\"Partitioner: {}\".format(custompairRDD.partitioner))\n",
    "print(\"Partition Sizes: {}\".format(custompairRDD.glom().map(len).collect()))\n",
    "print(\"Partitions structure: {}\".format(custompairRDD.glom().collect()))"
   ]
  },
  {
   "cell_type": "code",
   "execution_count": 11,
   "metadata": {},
   "outputs": [],
   "source": [
    "# Reparttion RDD's\n",
    "mergedrdd=custompairRDD.repartition(2)"
   ]
  },
  {
   "cell_type": "code",
   "execution_count": 12,
   "metadata": {},
   "outputs": [
    {
     "name": "stdout",
     "output_type": "stream",
     "text": [
      "Number of partitions: 2\n",
      "Partitioner: None\n",
      "Partition Sizes: [54, 46]\n",
      "Partitions structure: [[(u'shirts', [u'2019-11-06', u'$63.90', u'4']), (u'shirts', [u'2020-01-28', u'$11.93', u'4']), (u'shirts', [u'2019-07-20', u'$90.89', u'9']), (u'shirts', [u'2021-05-04', u'$3.35', u'8']), (u'shirts', [u'2020-07-27', u'$88.63', u'5']), (u'shirts', [u'2020-12-26', u'$10.43', u'7']), (u'shirts', [u'2020-08-06', u'$47.04', u'4']), (u'shirts', [u'2019-10-08', u'$95.85', u'8']), (u'shirts', [u'2019-11-30', u'$62.08', u'7']), (u'shirts', [u'2021-05-09', u'$45.97', u'10']), (u'pants', [u'2020-03-18', u'$33.63', u'4']), (u'pants', [u'2020-10-06', u'$7.36', u'1']), (u'pants', [u'2019-06-28', u'$41.24', u'6']), (u'pants', [u'2019-11-11', u'$30.10', u'8']), (u'pants', [u'2019-10-28', u'$39.57', u'10']), (u'pants', [u'2019-10-30', u'$30.43', u'1']), (u'pants', [u'2019-09-01', u'$63.32', u'1']), (u'pants', [u'2020-10-25', u'$32.76', u'4']), (u'pants', [u'2021-03-17', u'$85.46', u'2']), (u'pants', [u'2020-01-29', u'$36.03', u'5']), (u'pants', [u'2020-04-21', u'$6.48', u'10']), (u'pants', [u'2021-01-03', u'$45.70', u'8']), (u'pants', [u'2020-11-17', u'$40.23', u'5']), (u'pants', [u'2019-07-12', u'$17.01', u'2']), (u'pants', [u'2020-07-27', u'$58.39', u'10']), (u'pants', [u'2020-08-09', u'$33.20', u'6']), (u'skirts', [u'2019-10-07', u'$85.03', u'2']), (u'skirts', [u'2020-06-18', u'$79.17', u'9']), (u'ties', [u'2020-01-03', u'$20.47', u'9']), (u'ties', [u'2020-10-22', u'$26.19', u'2']), (u'skirts', [u'2021-03-18', u'$15.81', u'2']), (u'skirts', [u'2020-01-01', u'$46.78', u'4']), (u'ties', [u'2021-02-23', u'$9.55', u'6']), (u'ties', [u'2020-10-30', u'$83.10', u'1']), (u'ties', [u'2019-08-12', u'$21.89', u'1']), (u'skirts', [u'2020-06-10', u'$17.13', u'1']), (u'ties', [u'2021-01-19', u'$43.72', u'1']), (u'ties', [u'2020-05-13', u'$32.99', u'5']), (u'ties', [u'2020-09-16', u'$45.36', u'4']), (u'ties', [u'2019-07-04', u'$71.17', u'6']), (u'skirts', [u'2020-03-05', u'$47.76', u'8']), (u'ties', [u'2020-07-15', u'$99.79', u'5']), (u'skirts', [u'2021-03-03', u'$29.35', u'5']), (u'skirts', [u'2019-09-09', u'$13.38', u'6']), (u'ties', [u'2020-07-24', u'$53.09', u'8']), (u'skirts', [u'2019-07-14', u'$14.74', u'1']), (u'skirts', [u'2021-02-22', u'$0.78', u'7']), (u'ties', [u'2020-11-01', u'$95.68', u'9']), (u'ties', [u'2019-11-01', u'$93.68', u'6']), (u'skirts', [u'2020-12-08', u'$6.29', u'6']), (u'ties', [u'2021-04-17', u'$81.76', u'6']), (u'ties', [u'2019-08-07', u'$28.50', u'3']), (u'ties', [u'2021-02-17', u'$83.81', u'4']), (u'skirts', [u'2020-02-14', u'$71.10', u'9'])], [(u'shirts', [u'2020-04-09', u'$36.19', u'6']), (u'shirts', [u'2020-02-06', u'$79.96', u'5']), (u'shirts', [u'2019-10-24', u'$8.20', u'8']), (u'shirts', [u'2020-11-16', u'$16.02', u'5']), (u'shirts', [u'2019-06-10', u'$37.57', u'2']), (u'shirts', [u'2020-09-24', u'$52.79', u'4']), (u'shirts', [u'2020-12-29', u'$72.69', u'2']), (u'shirts', [u'2021-02-21', u'$68.51', u'1']), (u'shirts', [u'2019-08-11', u'$45.42', u'7']), (u'shirts', [u'2020-10-26', u'$42.69', u'8']), (u'shirts', [u'2020-10-11', u'$65.93', u'6']), (u'shirts', [u'2019-11-06', u'$59.07', u'4']), (u'pants', [u'2020-01-12', u'$74.31', u'2']), (u'pants', [u'2019-09-23', u'$48.18', u'2']), (u'pants', [u'2019-11-19', u'$11.66', u'10']), (u'pants', [u'2020-05-14', u'$24.86', u'3']), (u'pants', [u'2019-08-28', u'$8.68', u'10']), (u'pants', [u'2021-05-15', u'$90.04', u'3']), (u'pants', [u'2021-05-19', u'$87.27', u'10']), (u'pants', [u'2020-02-01', u'$90.91', u'4']), (u'pants', [u'2020-09-25', u'$93.68', u'3']), (u'pants', [u'2021-02-13', u'$58.73', u'10']), (u'skirts', [u'2019-06-24', u'$85.10', u'10']), (u'ties', [u'2019-11-16', u'$5.27', u'7']), (u'skirts', [u'2020-11-03', u'$57.93', u'9']), (u'ties', [u'2021-04-12', u'$34.33', u'5']), (u'skirts', [u'2020-02-01', u'$9.86', u'4']), (u'skirts', [u'2020-08-02', u'$69.63', u'6']), (u'skirts', [u'2019-08-20', u'$6.65', u'1']), (u'ties', [u'2020-05-19', u'$35.41', u'3']), (u'ties', [u'2019-10-12', u'$77.38', u'4']), (u'ties', [u'2020-03-30', u'$17.38', u'10']), (u'skirts', [u'2021-01-30', u'$72.03', u'9']), (u'ties', [u'2019-12-15', u'$68.24', u'4']), (u'skirts', [u'2020-08-01', u'$98.54', u'3']), (u'ties', [u'2020-08-23', u'$48.02', u'8']), (u'skirts', [u'2019-07-09', u'$43.62', u'4']), (u'ties', [u'2020-11-14', u'$71.92', u'6']), (u'skirts', [u'2020-07-15', u'$2.31', u'4']), (u'skirts', [u'2020-12-10', u'$72.32', u'10']), (u'ties', [u'2021-02-24', u'$63.87', u'7']), (u'ties', [u'2020-09-04', u'$65.36', u'7']), (u'skirts', [u'2019-12-24', u'$87.86', u'5']), (u'ties', [u'2019-11-30', u'$20.02', u'7']), (u'skirts', [u'2019-11-09', u'$45.72', u'10']), (u'skirts', [u'2020-10-06', u'$34.67', u'1'])]]\n"
     ]
    }
   ],
   "source": [
    "# check partition lengths. \n",
    "print(\"Number of partitions: {}\".format(mergedrdd.getNumPartitions()))\n",
    "print(\"Partitioner: {}\".format(mergedrdd.partitioner))\n",
    "print(\"Partition Sizes: {}\".format(mergedrdd.glom().map(len).collect()))\n",
    "print(\"Partitions structure: {}\".format(mergedrdd.glom().collect()))"
   ]
  },
  {
   "cell_type": "code",
   "execution_count": null,
   "metadata": {},
   "outputs": [],
   "source": []
  }
 ],
 "metadata": {
  "kernelspec": {
   "display_name": "Python 2",
   "language": "python",
   "name": "python2"
  },
  "language_info": {
   "codemirror_mode": {
    "name": "ipython",
    "version": 2
   },
   "file_extension": ".py",
   "mimetype": "text/x-python",
   "name": "python",
   "nbconvert_exporter": "python",
   "pygments_lexer": "ipython2",
   "version": "2.7.16"
  }
 },
 "nbformat": 4,
 "nbformat_minor": 2
}
