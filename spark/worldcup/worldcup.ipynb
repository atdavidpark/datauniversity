{
 "cells": [
  {
   "cell_type": "code",
   "execution_count": 1,
   "metadata": {},
   "outputs": [],
   "source": [
    "#!pip install -U databricks-cli"
   ]
  },
  {
   "cell_type": "code",
   "execution_count": 2,
   "metadata": {},
   "outputs": [],
   "source": [
    "#!conda install -y gwerbin databricks-cli"
   ]
  },
  {
   "cell_type": "code",
   "execution_count": 3,
   "metadata": {},
   "outputs": [
    {
     "name": "stdout",
     "output_type": "stream",
     "text": [
      "/bin/sh: line 0: fg: no job control\r\n"
     ]
    }
   ],
   "source": [
    "!%AddDeps com.databricks spark-csv_2.10 1.2.0 --transitive"
   ]
  },
  {
   "cell_type": "code",
   "execution_count": 4,
   "metadata": {},
   "outputs": [],
   "source": [
    "import findspark\n",
    "import datetime\n",
    "findspark.init()\n",
    "from pyspark import SparkContext\n",
    "sc = SparkContext(\"local\", \"first app\")\n",
    "#print(sc)"
   ]
  },
  {
   "cell_type": "code",
   "execution_count": 5,
   "metadata": {},
   "outputs": [],
   "source": [
    "from pyspark.sql import SQLContext\n",
    "from pyspark.sql.functions import *\n",
    "from pyspark.sql.types import DateType, IntegerType\n",
    "import matplotlib\n",
    "import matplotlib.pyplot as plt\n",
    "import pandas as pd\n",
    "\n",
    "sqlContext = SQLContext(sc)"
   ]
  },
  {
   "cell_type": "code",
   "execution_count": 6,
   "metadata": {},
   "outputs": [],
   "source": [
    "winnersdata=sc.textFile(\"hdfs://quickstart.cloudera:8020/data/worldcup/teams\")"
   ]
  },
  {
   "cell_type": "code",
   "execution_count": 7,
   "metadata": {},
   "outputs": [],
   "source": [
    "winners=winnersdata.map(lambda line: (line.split(',')[0], \n",
    "                                      line.split(',')[1],line.split(',')[2],\n",
    "                                      line.split(',')[3],line.split(',')[4],\n",
    "                                      line.split(',')[5],line.split(',')[6],\n",
    "                                      line.split(',')[7],line.split(',')[8],\n",
    "                                      line.split(',')[9])).collect()\n"
   ]
  },
  {
   "cell_type": "code",
   "execution_count": 8,
   "metadata": {},
   "outputs": [
    {
     "name": "stdout",
     "output_type": "stream",
     "text": [
      "+--------------------+----+------------+-------+--------------+--------------------+-----+-------+------------+-------------+\n",
      "|             Edition|Year|Host_Country| Winner|     Runner_up|  Average_attendance|Teams|Matches|Goals_scored|Average_goals|\n",
      "+--------------------+----+------------+-------+--------------+--------------------+-----+-------+------------+-------------+\n",
      "|             Edition|Year|Host_Country| Winner|     Runner_up| Average_attendance |Teams|Matches|Goals_scored|Average_goals|\n",
      "|1930 World Cup Ur...|1930|     Uruguay|Uruguay|     Argentina|               32808|   13|     18|          70|          3.9|\n",
      "|1934 World Cup Italy|1934|       Italy|  Italy|Czechoslovakia|               21353|   16|     17|          70|          4.1|\n",
      "+--------------------+----+------------+-------+--------------+--------------------+-----+-------+------------+-------------+\n",
      "only showing top 3 rows\n",
      "\n"
     ]
    }
   ],
   "source": [
    "df_winners = sqlContext.createDataFrame(winners, schema=['Edition','Year','Host_Country','Winner','Runner_up', \n",
    "                                                         'Average_attendance' ,'Teams','Matches','Goals_scored',\n",
    "                                                         'Average_goals'])\n",
    "df_winners.show(3)"
   ]
  },
  {
   "cell_type": "code",
   "execution_count": 9,
   "metadata": {},
   "outputs": [
    {
     "name": "stdout",
     "output_type": "stream",
     "text": [
      "+--------------------+----+------------+-------+--------------+------------------+-----+-------+------------+-------------+\n",
      "|             Edition|Year|Host_Country| Winner|     Runner_up|Average_attendance|Teams|Matches|Goals_scored|Average_goals|\n",
      "+--------------------+----+------------+-------+--------------+------------------+-----+-------+------------+-------------+\n",
      "|1930 World Cup Ur...|1930|     Uruguay|Uruguay|     Argentina|             32808|   13|     18|          70|          3.9|\n",
      "|1934 World Cup Italy|1934|       Italy|  Italy|Czechoslovakia|             21353|   16|     17|          70|          4.1|\n",
      "|1938 World Cup Fr...|1938|      France|  Italy|       Hungary|             20872|   15|     18|          84|          4.7|\n",
      "+--------------------+----+------------+-------+--------------+------------------+-----+-------+------------+-------------+\n",
      "only showing top 3 rows\n",
      "\n",
      "root\n",
      " |-- Edition: string (nullable = true)\n",
      " |-- Year: string (nullable = true)\n",
      " |-- Host_Country: string (nullable = true)\n",
      " |-- Winner: string (nullable = true)\n",
      " |-- Runner_up: string (nullable = true)\n",
      " |-- Average_attendance: string (nullable = true)\n",
      " |-- Teams: string (nullable = true)\n",
      " |-- Matches: string (nullable = true)\n",
      " |-- Goals_scored: string (nullable = true)\n",
      " |-- Average_goals: string (nullable = true)\n",
      "\n"
     ]
    }
   ],
   "source": [
    "wcheader = winnersdata.first()\n",
    "winnersdataf=winnersdata.filter(lambda line: line != wcheader)\n",
    "winnersrdd=winnersdataf.map(lambda line: (line.split(',')[0], line.split(',')[1],\n",
    "                                          line.split(',')[2],line.split(',')[3],\n",
    "                                          line.split(',')[4],line.split(',')[5],\n",
    "                                          line.split(',')[6],line.split(',')[7],\n",
    "                                          line.split(',')[8],line.split(',')[9])).collect()\n",
    "df_winners = sqlContext.createDataFrame(winnersrdd, schema=['Edition','Year','Host_Country','Winner','Runner_up', \n",
    "                                                            'Average_attendance' ,'Teams','Matches','Goals_scored',\n",
    "                                                            'Average_goals'])\n",
    "df_winners.show(3)\n",
    "df_winners.printSchema()"
   ]
  },
  {
   "cell_type": "code",
   "execution_count": 10,
   "metadata": {},
   "outputs": [],
   "source": [
    "df_winners.write.format(\"com.databricks.spark.avro\").save(\"hdfs://quickstart.cloudera:8020/data/avro/winners\")"
   ]
  },
  {
   "cell_type": "code",
   "execution_count": 12,
   "metadata": {},
   "outputs": [],
   "source": [
    "coachesdata=sc.textFile(\"hdfs://quickstart.cloudera:8020/data/worldcup/coaches\")"
   ]
  },
  {
   "cell_type": "code",
   "execution_count": 14,
   "metadata": {},
   "outputs": [
    {
     "name": "stdout",
     "output_type": "stream",
     "text": [
      "+---------+---------------+\n",
      "|  Country|          Coach|\n",
      "+---------+---------------+\n",
      "|  Country|          Coach|\n",
      "|  Algeria| Rabah SAADANEH|\n",
      "|Argentina|Diego MARADONAH|\n",
      "+---------+---------------+\n",
      "only showing top 3 rows\n",
      "\n",
      "root\n",
      " |-- Country: string (nullable = true)\n",
      " |-- Coach: string (nullable = true)\n",
      "\n"
     ]
    }
   ],
   "source": [
    "cheader = coachesdata.first()\n",
    "coachesdataf=coachesdata.filter(lambda line: line != wcheader)\n",
    "coachedrdd=coachesdataf.map(lambda line: (line.split('|')[0], line.split('|')[1])).collect()\n",
    "df_coaches = sqlContext.createDataFrame(coachedrdd, schema=['Country','Coach'])\n",
    "df_coaches.show(3)\n",
    "df_coaches.printSchema()"
   ]
  },
  {
   "cell_type": "code",
   "execution_count": 15,
   "metadata": {},
   "outputs": [],
   "source": [
    "df_coaches.write.parquet(\"hdfs://quickstart.cloudera:8020/data/parquet/coaches\")"
   ]
  },
  {
   "cell_type": "code",
   "execution_count": 17,
   "metadata": {},
   "outputs": [
    {
     "name": "stdout",
     "output_type": "stream",
     "text": [
      "+--------------------+-----------+-----------+-----------+-----------------+---------+------+--------+---------+----+\n",
      "|                Club|ClubCountry|Competition|DateOfBirth|         FullName|IsCaptain|Number|Position|     Team|Year|\n",
      "+--------------------+-----------+-----------+-----------+-----------------+---------+------+--------+---------+----+\n",
      "|Club AtlÃ©tico Ta...|  Argentina|  World Cup|   1905-5-5|     Ãngel Bossio|    false|      |      GK|Argentina|1930|\n",
      "|Quilmes AtlÃ©tico...|  Argentina|  World Cup| 1908-10-23|     Juan Botasso|    false|      |      GK|Argentina|1930|\n",
      "|          Boca Junio|  Argentina|  World Cup|  1907-2-23|   Roberto Cherro|    false|      |      FW|Argentina|1930|\n",
      "|Central Norte TucumÃ|  Argentina|  World Cup|  1907-2-23|Alberto Chividini|    false|      |      DF|Argentina|1930|\n",
      "|Club Atletico Est...|  Argentina|  World Cup|  1909-3-19|                 |    false|    10|      FW|Argentina|1930|\n",
      "+--------------------+-----------+-----------+-----------+-----------------+---------+------+--------+---------+----+\n",
      "only showing top 5 rows\n",
      "\n"
     ]
    }
   ],
   "source": [
    "playersrdd = sc.wholeTextFiles(\"hdfs://quickstart.cloudera:8020//data/worldcup/players\") \\\n",
    "               .map(lambda x: x[1])\n",
    "df_players = sqlContext.read.json(playersrdd)\n",
    "df_players.show(5)"
   ]
  },
  {
   "cell_type": "code",
   "execution_count": 18,
   "metadata": {},
   "outputs": [],
   "source": [
    "df_players.write.parquet(\"hdfs://quickstart.cloudera:8020/data/parquet/players\")"
   ]
  },
  {
   "cell_type": "code",
   "execution_count": 19,
   "metadata": {},
   "outputs": [
    {
     "name": "stdout",
     "output_type": "stream",
     "text": [
      "+--------------------+----+------------+-------+--------------+------------------+-----+-------+------------+-------------+\n",
      "|             Edition|Year|Host_Country| Winner|     Runner_up|Average_attendance|Teams|Matches|Goals_scored|Average_goals|\n",
      "+--------------------+----+------------+-------+--------------+------------------+-----+-------+------------+-------------+\n",
      "|1930 World Cup Ur...|1930|     Uruguay|Uruguay|     Argentina|             32808|   13|     18|          70|          3.9|\n",
      "|1934 World Cup Italy|1934|       Italy|  Italy|Czechoslovakia|             21353|   16|     17|          70|          4.1|\n",
      "|1938 World Cup Fr...|1938|      France|  Italy|       Hungary|             20872|   15|     18|          84|          4.7|\n",
      "+--------------------+----+------------+-------+--------------+------------------+-----+-------+------------+-------------+\n",
      "only showing top 3 rows\n",
      "\n"
     ]
    }
   ],
   "source": [
    "df_avro=sqlContext.read.format(\"com.databricks.spark.avro\") \\\n",
    "                  .load(\"hdfs://quickstart.cloudera:8020/data/avro/winners\")\n",
    "df_avro.show(3)"
   ]
  },
  {
   "cell_type": "code",
   "execution_count": 20,
   "metadata": {},
   "outputs": [
    {
     "name": "stdout",
     "output_type": "stream",
     "text": [
      "+---------+---------------+\n",
      "|  Country|          Coach|\n",
      "+---------+---------------+\n",
      "|  Country|          Coach|\n",
      "|  Algeria| Rabah SAADANEH|\n",
      "|Argentina|Diego MARADONAH|\n",
      "+---------+---------------+\n",
      "only showing top 3 rows\n",
      "\n"
     ]
    }
   ],
   "source": [
    "df_parquet=sqlContext.read.parquet(\"hdfs://quickstart.cloudera:8020/data/parquet/coaches\")\n",
    "df_parquet.show(3)\n"
   ]
  },
  {
   "cell_type": "code",
   "execution_count": null,
   "metadata": {},
   "outputs": [],
   "source": []
  }
 ],
 "metadata": {
  "kernelspec": {
   "display_name": "Python 2",
   "language": "python",
   "name": "python2"
  },
  "language_info": {
   "codemirror_mode": {
    "name": "ipython",
    "version": 2
   },
   "file_extension": ".py",
   "mimetype": "text/x-python",
   "name": "python",
   "nbconvert_exporter": "python",
   "pygments_lexer": "ipython2",
   "version": "2.7.16"
  }
 },
 "nbformat": 4,
 "nbformat_minor": 2
}
